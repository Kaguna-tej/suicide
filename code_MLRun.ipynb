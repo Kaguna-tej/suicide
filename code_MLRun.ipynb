{
  "nbformat": 4,
  "nbformat_minor": 0,
  "metadata": {
    "kernelspec": {
      "display_name": "Python 3",
      "language": "python",
      "name": "python3"
    },
    "language_info": {
      "codemirror_mode": {
        "name": "ipython",
        "version": 3
      },
      "file_extension": ".py",
      "mimetype": "text/x-python",
      "name": "python",
      "nbconvert_exporter": "python",
      "pygments_lexer": "ipython3",
      "version": "3.8.8"
    },
    "colab": {
      "name": "code-MLRun.ipynb",
      "provenance": [],
      "collapsed_sections": []
    }
  },
  "cells": [
    {
      "cell_type": "markdown",
      "metadata": {
        "id": "PU25QG73Ab9h"
      },
      "source": [
        "### Import Libraries"
      ]
    },
    {
      "cell_type": "code",
      "metadata": {
        "id": "QHbeEId2CaA0"
      },
      "source": [
        "!pip install mlrun"
      ],
      "execution_count": null,
      "outputs": []
    },
    {
      "cell_type": "code",
      "metadata": {
        "id": "iqhC5j7vBgBz"
      },
      "source": [
        "from google.colab import drive\n",
        "drive.mount('/content/drive')"
      ],
      "execution_count": null,
      "outputs": []
    },
    {
      "cell_type": "code",
      "metadata": {
        "colab": {
          "base_uri": "https://localhost:8080/"
        },
        "id": "4doDIowfDhaR",
        "outputId": "d4877f98-8b3c-439f-f36f-63650e6c414c"
      },
      "source": [
        "from mlrun import mlconf\n",
        "\n",
        "mlconf.dbpath = '/content/drive/MyDrive/Hackathon'\n",
        "mlconf.artifact_path = '/content/drive/MyDrive/Hackathon/Data'"
      ],
      "execution_count": 1,
      "outputs": [
        {
          "output_type": "stream",
          "text": [
            "/usr/local/lib/python3.7/dist-packages/requests/__init__.py:91: RequestsDependencyWarning: urllib3 (1.26.6) or chardet (3.0.4) doesn't match a supported version!\n",
            "  RequestsDependencyWarning)\n"
          ],
          "name": "stderr"
        }
      ]
    },
    {
      "cell_type": "code",
      "metadata": {
        "colab": {
          "base_uri": "https://localhost:8080/"
        },
        "id": "X3UogbjAE4qT",
        "outputId": "87d4dfa0-7697-4c9b-e55e-726160c8c016"
      },
      "source": [
        "from os import path\n",
        "import mlrun\n",
        "\n",
        "project_name_base = 'suicide-pred'\n",
        "\n",
        "project_name, artifact_path = mlrun.set_environment(project=project_name_base, user_project=True)\n",
        "\n",
        "print(f'Project name: {project_name}')\n",
        "print(f'Artifact path: {artifact_path}')"
      ],
      "execution_count": 2,
      "outputs": [
        {
          "output_type": "stream",
          "text": [
            "Project name: suicide-pred-root\n",
            "Artifact path: /content/drive/MyDrive/Hackathon/Data\n"
          ],
          "name": "stdout"
        }
      ]
    },
    {
      "cell_type": "markdown",
      "metadata": {
        "id": "ksipPSnQGUWg"
      },
      "source": [
        "<h2>MLRun Functions"
      ]
    },
    {
      "cell_type": "code",
      "metadata": {
        "id": "PSsaCcbhj1-J"
      },
      "source": [
        "# nuclio: start-code"
      ],
      "execution_count": 3,
      "outputs": []
    },
    {
      "cell_type": "code",
      "metadata": {
        "colab": {
          "base_uri": "https://localhost:8080/"
        },
        "id": "xLLs2d_yAb9k",
        "outputId": "b2de9436-cee6-4c1a-8a50-92bdcde4f0d3"
      },
      "source": [
        "\n",
        "import pickle\n",
        "from pickle import dumps\n",
        "import re\n",
        "import numpy as np\n",
        "import pandas as pd\n",
        "from tqdm import tqdm\n",
        "import nltk\n",
        "from os import path\n",
        "import os\n",
        "\n",
        "\n",
        "from mlrun.execution import MLClientCtx\n",
        "from mlrun.datastore import DataItem\n",
        "\n",
        "# nltk.download()\n",
        "nltk.download('stopwords')"
      ],
      "execution_count": 4,
      "outputs": [
        {
          "output_type": "stream",
          "text": [
            "[nltk_data] Downloading package stopwords to /root/nltk_data...\n",
            "[nltk_data]   Package stopwords is already up-to-date!\n"
          ],
          "name": "stdout"
        },
        {
          "output_type": "execute_result",
          "data": {
            "text/plain": [
              "True"
            ]
          },
          "metadata": {
            "tags": []
          },
          "execution_count": 4
        }
      ]
    },
    {
      "cell_type": "code",
      "metadata": {
        "id": "z44z2ymkGS4Y"
      },
      "source": [
        "def fetch_data(context : MLClientCtx, data_path: DataItem):\n",
        "    \n",
        "    context.logger.info('Reading data from {}'.format(data_path))\n",
        "    suicide_dataset = pd.read_csv(str(data_path))\n",
        "    \n",
        "    \n",
        "    target_path = path.join(context.artifact_path, 'data')\n",
        "    context.logger.info('Saving datasets to {} ...'.format(target_path))\n",
        "\n",
        "    # Store the data sets in your artifacts database\n",
        "    context.log_dataset('suicide_dataset', df=suicide_dataset, format='csv',\n",
        "                        index=False, artifact_path=target_path)\n",
        "    "
      ],
      "execution_count": 5,
      "outputs": []
    },
    {
      "cell_type": "code",
      "metadata": {
        "id": "51qsA594Ab9m"
      },
      "source": [
        "def preprocess_tweet(text):\n",
        "    text = re.sub('<[^>]*>', '', text)\n",
        "    emoticons = re.findall('(?::|;|=)(?:-)?(?:\\)|\\(|D|P)', text)\n",
        "    text = re.sub('[\\W]+', ' ', text.lower())\n",
        "    text = text+' '.join(emoticons).replace('-', '') \n",
        "    return text"
      ],
      "execution_count": 6,
      "outputs": []
    },
    {
      "cell_type": "code",
      "metadata": {
        "id": "D8F-9eWnAb9o"
      },
      "source": [
        "from nltk.stem.porter import PorterStemmer\n",
        "porter = PorterStemmer()\n",
        "def tokenizer_porter(text):\n",
        "    return [porter.stem(word) for word in text.split()]\n",
        "\n",
        "from nltk.corpus import stopwords\n",
        "stop = stopwords.words('english')"
      ],
      "execution_count": 7,
      "outputs": []
    },
    {
      "cell_type": "code",
      "metadata": {
        "id": "_RL3hEocAb9p"
      },
      "source": [
        "def tokenizer(text):\n",
        "    text = re.sub('<[^>]*>', '', text)\n",
        "    emoticons = re.findall('(?::|;|=)(?:-)?(?:\\(|D|P)',text.lower())\n",
        "    text = re.sub('[\\W]+', ' ', text.lower())\n",
        "    text += ' '.join(emoticons).replace('-', '')\n",
        "    tokenized = [w for w in tokenizer_porter(text) if w not in stop]\n",
        "    return tokenized"
      ],
      "execution_count": 8,
      "outputs": []
    },
    {
      "cell_type": "code",
      "metadata": {
        "id": "7VrEI0iQAb9q"
      },
      "source": [
        "from sklearn.feature_extraction.text import HashingVectorizer\n",
        "vect = HashingVectorizer(decode_error='ignore', n_features=2**21, \n",
        "                         preprocessor=None,tokenizer=tokenizer)"
      ],
      "execution_count": 9,
      "outputs": []
    },
    {
      "cell_type": "code",
      "metadata": {
        "id": "kIb5wqWtNX_8"
      },
      "source": [
        "def transform_dataset(context : MLClientCtx, data: DataItem):\n",
        "\n",
        "  context.logger.info('Begin datasets transform')\n",
        "\n",
        "  df = data.as_df()\n",
        "  df['tweet'] = df['tweet'].apply(lambda x: preprocess_tweet(x))\n",
        "  # print(len(df[\"tweet\"].to_list()))\n",
        "  # k = list(vect.transform(df[\"tweet\"].values))\n",
        "  # print(len(k))\n",
        "  # df['tweet'] = list(vect.transform(df[\"tweet\"].values))\n",
        "\n",
        "  target_path = path.join(context.artifact_path, 'data')\n",
        "  context.log_dataset('suicide_dataset_transformed', df=df, artifact_path=target_path, format='csv')    \n"
      ],
      "execution_count": 10,
      "outputs": []
    },
    {
      "cell_type": "code",
      "metadata": {
        "id": "_oFnlLrNPIkN"
      },
      "source": [
        "def train_model(context: MLClientCtx, input_ds: DataItem):\n",
        "\n",
        "\n",
        "  context.logger.info('Begin training')\n",
        "  from sklearn.linear_model import SGDClassifier\n",
        "  clf = SGDClassifier(loss='log', random_state=1)\n",
        "\n",
        "  df = input_ds.as_df()\n",
        "  X = df[\"tweet\"].to_list()\n",
        "  y = df['label']\n",
        "\n",
        "  from sklearn.model_selection import train_test_split\n",
        "  X_train,X_test,y_train,y_test = train_test_split(X,\n",
        "                                                  y,\n",
        "                                                  test_size=0.20,\n",
        "                                                  random_state=0)  \n",
        "  X_train = vect.transform(X_train)\n",
        "  X_test = vect.transform(X_test)\n",
        "\n",
        "  classes = np.array([0, 1])\n",
        "  clf.partial_fit(X_train, y_train,classes=classes)\n",
        "\n",
        "  print('Accuracy: %.3f' % clf.score(X_test, y_test))\n",
        "\n",
        "  context.log_model('Suicide_Model',\n",
        "                     body=dumps(clf),\n",
        "                     artifact_path=context.artifact_subpath(\"models\"),\n",
        "                     model_file=\"Suicide_Model.pkl\")\n",
        "  \n",
        "\n",
        "  context.logger.info('End training')"
      ],
      "execution_count": 11,
      "outputs": []
    },
    {
      "cell_type": "code",
      "metadata": {
        "id": "1uVHtgF1uuR0"
      },
      "source": [
        "import numpy as np\n",
        "from cloudpickle import load\n",
        "\n",
        "class SuicideModel(mlrun.serving.V2ModelServer):\n",
        "    \n",
        "    def load(self):\n",
        "        model_file, extra_data = self.get_model('.pkl')\n",
        "        self.model = load(open(model_file, 'rb'))\n",
        "\n",
        "    def predict(self, body):\n",
        "        try:\n",
        "            feats = body['inputs'][0]\n",
        "            # feats = feats.decode('ISO-8859-1')\n",
        "            feats = preprocess_tweet(feats)\n",
        "            l = []\n",
        "            l.append(feats)\n",
        "            feats = vect.transform(l)\n",
        "            print('hi')\n",
        "            result = self.model.predict(feats)\n",
        "            return result.tolist()\n",
        "        except Exception as e:\n",
        "            raise Exception(\"Failed to predict %s\" % e)"
      ],
      "execution_count": 52,
      "outputs": []
    },
    {
      "cell_type": "code",
      "metadata": {
        "id": "7HUxIoxRkFY9"
      },
      "source": [
        "# nuclio: end-code"
      ],
      "execution_count": 53,
      "outputs": []
    },
    {
      "cell_type": "markdown",
      "metadata": {
        "id": "WhZlqNCUOvuN"
      },
      "source": [
        "<h2>MLRun Procedure "
      ]
    },
    {
      "cell_type": "code",
      "metadata": {
        "id": "B30Eu6WRQ3Gp"
      },
      "source": [
        "suicide_func = mlrun.code_to_function(name='suicide', kind='job', filename = '/content/drive/MyDrive/Hackathon/code-MLRun.ipynb')"
      ],
      "execution_count": 13,
      "outputs": []
    },
    {
      "cell_type": "markdown",
      "metadata": {
        "id": "dWArHu164zg7"
      },
      "source": [
        "<h3> Fetch"
      ]
    },
    {
      "cell_type": "code",
      "metadata": {
        "colab": {
          "base_uri": "https://localhost:8080/",
          "height": 253
        },
        "id": "u1bFgkocgO25",
        "outputId": "fab8f422-3179-40f8-a489-2d65f94065d8"
      },
      "source": [
        "fetch_data_run = suicide_func.run(handler='fetch_data',\n",
        "                               inputs={'data_path': '/content/drive/MyDrive/Hackathon/suicidal_data.csv'},\n",
        "                               local=True)"
      ],
      "execution_count": 14,
      "outputs": [
        {
          "output_type": "stream",
          "text": [
            "> 2021-07-03 15:34:21,849 [info] starting run suicide-fetch_data uid=ec18b6e60fd54ac2b02ca337265bd200 DB=/content/drive/MyDrive/Hackathon\n",
            "[nltk_data] Downloading package stopwords to /root/nltk_data...\n",
            "[nltk_data]   Package stopwords is already up-to-date!\n",
            "> 2021-07-03 15:34:21,885 [info] Reading data from /content/drive/MyDrive/Hackathon/suicidal_data.csv\n",
            "> 2021-07-03 15:34:21,970 [info] Saving datasets to /content/drive/MyDrive/Hackathon/Data/data ...\n"
          ],
          "name": "stdout"
        },
        {
          "output_type": "display_data",
          "data": {
            "text/html": [
              "<style>\n",
              ".dictlist {\n",
              "  background-color: #4EC64B;\n",
              "  text-align: center;\n",
              "  margin: 4px;\n",
              "  border-radius: 3px; padding: 0px 3px 1px 3px; display: inline-block;}\n",
              ".artifact {\n",
              "  cursor: pointer;\n",
              "  background-color: #4EC64B;\n",
              "  text-align: left;\n",
              "  margin: 4px; border-radius: 3px; padding: 0px 3px 1px 3px; display: inline-block;\n",
              "}\n",
              "div.block.hidden {\n",
              "  display: none;\n",
              "}\n",
              ".clickable {\n",
              "  cursor: pointer;\n",
              "}\n",
              ".ellipsis {\n",
              "  display: inline-block;\n",
              "  max-width: 60px;\n",
              "  white-space: nowrap;\n",
              "  overflow: hidden;\n",
              "  text-overflow: ellipsis;\n",
              "}\n",
              ".master-wrapper {\n",
              "  display: flex;\n",
              "  flex-flow: row nowrap;\n",
              "  justify-content: flex-start;\n",
              "  align-items: stretch;\n",
              "}\n",
              ".master-tbl {\n",
              "  flex: 3\n",
              "}\n",
              ".master-wrapper > div {\n",
              "  margin: 4px;\n",
              "  padding: 10px;\n",
              "}\n",
              "iframe.fileview {\n",
              "  border: 0 none;\n",
              "  height: 100%;\n",
              "  width: 100%;\n",
              "  white-space: pre-wrap;\n",
              "}\n",
              ".pane-header-title {\n",
              "  width: 80%;\n",
              "  font-weight: 500;\n",
              "}\n",
              ".pane-header {\n",
              "  line-height: 1;\n",
              "  background-color: #4EC64B;\n",
              "  padding: 3px;\n",
              "}\n",
              ".pane-header .close {\n",
              "  font-size: 20px;\n",
              "  font-weight: 700;\n",
              "  float: right;\n",
              "  margin-top: -5px;\n",
              "}\n",
              ".master-wrapper .right-pane {\n",
              "  border: 1px inset silver;\n",
              "  width: 40%;\n",
              "  min-height: 300px;\n",
              "  flex: 3\n",
              "  min-width: 500px;\n",
              "}\n",
              ".master-wrapper * {\n",
              "  box-sizing: border-box;\n",
              "}\n",
              "</style><script>\n",
              "function copyToClipboard(fld) {\n",
              "    if (document.queryCommandSupported && document.queryCommandSupported('copy')) {\n",
              "        var textarea = document.createElement('textarea');\n",
              "        textarea.textContent = fld.innerHTML;\n",
              "        textarea.style.position = 'fixed';\n",
              "        document.body.appendChild(textarea);\n",
              "        textarea.select();\n",
              "\n",
              "        try {\n",
              "            return document.execCommand('copy'); // Security exception may be thrown by some browsers.\n",
              "        } catch (ex) {\n",
              "\n",
              "        } finally {\n",
              "            document.body.removeChild(textarea);\n",
              "        }\n",
              "    }\n",
              "}\n",
              "function expandPanel(el) {\n",
              "  const panelName = \"#\" + el.getAttribute('paneName');\n",
              "  console.log(el.title);\n",
              "\n",
              "  document.querySelector(panelName + \"-title\").innerHTML = el.title\n",
              "  iframe = document.querySelector(panelName + \"-body\");\n",
              "\n",
              "  const tblcss = `<style> body { font-family: Arial, Helvetica, sans-serif;}\n",
              "    #csv { margin-bottom: 15px; }\n",
              "    #csv table { border-collapse: collapse;}\n",
              "    #csv table td { padding: 4px 8px; border: 1px solid silver;} </style>`;\n",
              "\n",
              "  function csvToHtmlTable(str) {\n",
              "    return '<div id=\"csv\"><table><tr><td>' +  str.replace(/[\\n\\r]+$/g, '').replace(/[\\n\\r]+/g, '</td></tr><tr><td>')\n",
              "      .replace(/,/g, '</td><td>') + '</td></tr></table></div>';\n",
              "  }\n",
              "\n",
              "  function reqListener () {\n",
              "    if (el.title.endsWith(\".csv\")) {\n",
              "      iframe.setAttribute(\"srcdoc\", tblcss + csvToHtmlTable(this.responseText));\n",
              "    } else {\n",
              "      iframe.setAttribute(\"srcdoc\", this.responseText);\n",
              "    }\n",
              "    console.log(this.responseText);\n",
              "  }\n",
              "\n",
              "  const oReq = new XMLHttpRequest();\n",
              "  oReq.addEventListener(\"load\", reqListener);\n",
              "  oReq.open(\"GET\", el.title);\n",
              "  oReq.send();\n",
              "\n",
              "\n",
              "  //iframe.src = el.title;\n",
              "  const resultPane = document.querySelector(panelName + \"-pane\");\n",
              "  if (resultPane.classList.contains(\"hidden\")) {\n",
              "    resultPane.classList.remove(\"hidden\");\n",
              "  }\n",
              "}\n",
              "function closePanel(el) {\n",
              "  const panelName = \"#\" + el.getAttribute('paneName')\n",
              "  const resultPane = document.querySelector(panelName + \"-pane\");\n",
              "  if (!resultPane.classList.contains(\"hidden\")) {\n",
              "    resultPane.classList.add(\"hidden\");\n",
              "  }\n",
              "}\n",
              "\n",
              "</script>\n",
              "<div class=\"master-wrapper\">\n",
              "  <div class=\"block master-tbl\"><div>\n",
              "<style scoped>\n",
              "    .dataframe tbody tr th:only-of-type {\n",
              "        vertical-align: middle;\n",
              "    }\n",
              "\n",
              "    .dataframe tbody tr th {\n",
              "        vertical-align: top;\n",
              "    }\n",
              "\n",
              "    .dataframe thead th {\n",
              "        text-align: right;\n",
              "    }\n",
              "</style>\n",
              "<table border=\"1\" class=\"dataframe\">\n",
              "  <thead>\n",
              "    <tr style=\"text-align: right;\">\n",
              "      <th>project</th>\n",
              "      <th>uid</th>\n",
              "      <th>iter</th>\n",
              "      <th>start</th>\n",
              "      <th>state</th>\n",
              "      <th>name</th>\n",
              "      <th>labels</th>\n",
              "      <th>inputs</th>\n",
              "      <th>parameters</th>\n",
              "      <th>results</th>\n",
              "      <th>artifacts</th>\n",
              "    </tr>\n",
              "  </thead>\n",
              "  <tbody>\n",
              "    <tr>\n",
              "      <td>suicide-pred-root</td>\n",
              "      <td><div title=\"ec18b6e60fd54ac2b02ca337265bd200\">...5bd200</div></td>\n",
              "      <td>0</td>\n",
              "      <td>Jul 03 15:34:21</td>\n",
              "      <td>completed</td>\n",
              "      <td>suicide-fetch_data</td>\n",
              "      <td><div class=\"dictlist\">kind=</div><div class=\"dictlist\">owner=root</div><div class=\"dictlist\">host=d005ddeacf7e</div></td>\n",
              "      <td><div title=\"/content/drive/MyDrive/Hackathon/suicidal_data.csv\">data_path</div></td>\n",
              "      <td></td>\n",
              "      <td></td>\n",
              "      <td><div title=\"/content/drive/MyDrive/Hackathon/Data/data/suicide_dataset.csv\">suicide_dataset</div></td>\n",
              "    </tr>\n",
              "  </tbody>\n",
              "</table>\n",
              "</div></div>\n",
              "  <div id=\"result6240179f-pane\" class=\"right-pane block hidden\">\n",
              "    <div class=\"pane-header\">\n",
              "      <span id=\"result6240179f-title\" class=\"pane-header-title\">Title</span>\n",
              "      <span onclick=\"closePanel(this)\" paneName=\"result6240179f\" class=\"close clickable\">&times;</span>\n",
              "    </div>\n",
              "    <iframe class=\"fileview\" id=\"result6240179f-body\"></iframe>\n",
              "  </div>\n",
              "</div>\n"
            ],
            "text/plain": [
              "<IPython.core.display.HTML object>"
            ]
          },
          "metadata": {
            "tags": []
          }
        },
        {
          "output_type": "stream",
          "text": [
            "to track results use .show() or .logs() or in CLI: \n",
            "!mlrun get run ec18b6e60fd54ac2b02ca337265bd200 --project suicide-pred-root , !mlrun logs ec18b6e60fd54ac2b02ca337265bd200 --project suicide-pred-root\n",
            "> 2021-07-03 15:34:22,290 [info] run executed, status=completed\n"
          ],
          "name": "stdout"
        }
      ]
    },
    {
      "cell_type": "code",
      "metadata": {
        "colab": {
          "base_uri": "https://localhost:8080/"
        },
        "id": "q6-4wXNxiXor",
        "outputId": "bc9c4596-a209-4d98-b4f1-81898680f8de"
      },
      "source": [
        "fetch_data_run.outputs"
      ],
      "execution_count": 15,
      "outputs": [
        {
          "output_type": "execute_result",
          "data": {
            "text/plain": [
              "{'suicide_dataset': 'store://artifacts/suicide-pred-root/suicide-fetch_data_suicide_dataset:ec18b6e60fd54ac2b02ca337265bd200'}"
            ]
          },
          "metadata": {
            "tags": []
          },
          "execution_count": 15
        }
      ]
    },
    {
      "cell_type": "markdown",
      "metadata": {
        "id": "FjneTDoy4vvi"
      },
      "source": [
        "<h3> Test"
      ]
    },
    {
      "cell_type": "code",
      "metadata": {
        "colab": {
          "base_uri": "https://localhost:8080/",
          "height": 236
        },
        "id": "gSJHfOlvpeup",
        "outputId": "7f526486-9cdd-40da-c1ab-6f402501ff45"
      },
      "source": [
        "transform_dataset_run = suicide_func.run(name='transform_dataset',\n",
        "                                      handler='transform_dataset',\n",
        "                                      inputs={'data': fetch_data_run.outputs['suicide_dataset']},\n",
        "                                      local=True)"
      ],
      "execution_count": 16,
      "outputs": [
        {
          "output_type": "stream",
          "text": [
            "> 2021-07-03 15:34:22,612 [info] starting run transform_dataset uid=c3f461601bee455790cc09f1b0d6e8bf DB=/content/drive/MyDrive/Hackathon\n",
            "[nltk_data] Downloading package stopwords to /root/nltk_data...\n",
            "[nltk_data]   Package stopwords is already up-to-date!\n",
            "> 2021-07-03 15:34:22,727 [info] Begin datasets transform\n"
          ],
          "name": "stdout"
        },
        {
          "output_type": "display_data",
          "data": {
            "text/html": [
              "<style>\n",
              ".dictlist {\n",
              "  background-color: #4EC64B;\n",
              "  text-align: center;\n",
              "  margin: 4px;\n",
              "  border-radius: 3px; padding: 0px 3px 1px 3px; display: inline-block;}\n",
              ".artifact {\n",
              "  cursor: pointer;\n",
              "  background-color: #4EC64B;\n",
              "  text-align: left;\n",
              "  margin: 4px; border-radius: 3px; padding: 0px 3px 1px 3px; display: inline-block;\n",
              "}\n",
              "div.block.hidden {\n",
              "  display: none;\n",
              "}\n",
              ".clickable {\n",
              "  cursor: pointer;\n",
              "}\n",
              ".ellipsis {\n",
              "  display: inline-block;\n",
              "  max-width: 60px;\n",
              "  white-space: nowrap;\n",
              "  overflow: hidden;\n",
              "  text-overflow: ellipsis;\n",
              "}\n",
              ".master-wrapper {\n",
              "  display: flex;\n",
              "  flex-flow: row nowrap;\n",
              "  justify-content: flex-start;\n",
              "  align-items: stretch;\n",
              "}\n",
              ".master-tbl {\n",
              "  flex: 3\n",
              "}\n",
              ".master-wrapper > div {\n",
              "  margin: 4px;\n",
              "  padding: 10px;\n",
              "}\n",
              "iframe.fileview {\n",
              "  border: 0 none;\n",
              "  height: 100%;\n",
              "  width: 100%;\n",
              "  white-space: pre-wrap;\n",
              "}\n",
              ".pane-header-title {\n",
              "  width: 80%;\n",
              "  font-weight: 500;\n",
              "}\n",
              ".pane-header {\n",
              "  line-height: 1;\n",
              "  background-color: #4EC64B;\n",
              "  padding: 3px;\n",
              "}\n",
              ".pane-header .close {\n",
              "  font-size: 20px;\n",
              "  font-weight: 700;\n",
              "  float: right;\n",
              "  margin-top: -5px;\n",
              "}\n",
              ".master-wrapper .right-pane {\n",
              "  border: 1px inset silver;\n",
              "  width: 40%;\n",
              "  min-height: 300px;\n",
              "  flex: 3\n",
              "  min-width: 500px;\n",
              "}\n",
              ".master-wrapper * {\n",
              "  box-sizing: border-box;\n",
              "}\n",
              "</style><script>\n",
              "function copyToClipboard(fld) {\n",
              "    if (document.queryCommandSupported && document.queryCommandSupported('copy')) {\n",
              "        var textarea = document.createElement('textarea');\n",
              "        textarea.textContent = fld.innerHTML;\n",
              "        textarea.style.position = 'fixed';\n",
              "        document.body.appendChild(textarea);\n",
              "        textarea.select();\n",
              "\n",
              "        try {\n",
              "            return document.execCommand('copy'); // Security exception may be thrown by some browsers.\n",
              "        } catch (ex) {\n",
              "\n",
              "        } finally {\n",
              "            document.body.removeChild(textarea);\n",
              "        }\n",
              "    }\n",
              "}\n",
              "function expandPanel(el) {\n",
              "  const panelName = \"#\" + el.getAttribute('paneName');\n",
              "  console.log(el.title);\n",
              "\n",
              "  document.querySelector(panelName + \"-title\").innerHTML = el.title\n",
              "  iframe = document.querySelector(panelName + \"-body\");\n",
              "\n",
              "  const tblcss = `<style> body { font-family: Arial, Helvetica, sans-serif;}\n",
              "    #csv { margin-bottom: 15px; }\n",
              "    #csv table { border-collapse: collapse;}\n",
              "    #csv table td { padding: 4px 8px; border: 1px solid silver;} </style>`;\n",
              "\n",
              "  function csvToHtmlTable(str) {\n",
              "    return '<div id=\"csv\"><table><tr><td>' +  str.replace(/[\\n\\r]+$/g, '').replace(/[\\n\\r]+/g, '</td></tr><tr><td>')\n",
              "      .replace(/,/g, '</td><td>') + '</td></tr></table></div>';\n",
              "  }\n",
              "\n",
              "  function reqListener () {\n",
              "    if (el.title.endsWith(\".csv\")) {\n",
              "      iframe.setAttribute(\"srcdoc\", tblcss + csvToHtmlTable(this.responseText));\n",
              "    } else {\n",
              "      iframe.setAttribute(\"srcdoc\", this.responseText);\n",
              "    }\n",
              "    console.log(this.responseText);\n",
              "  }\n",
              "\n",
              "  const oReq = new XMLHttpRequest();\n",
              "  oReq.addEventListener(\"load\", reqListener);\n",
              "  oReq.open(\"GET\", el.title);\n",
              "  oReq.send();\n",
              "\n",
              "\n",
              "  //iframe.src = el.title;\n",
              "  const resultPane = document.querySelector(panelName + \"-pane\");\n",
              "  if (resultPane.classList.contains(\"hidden\")) {\n",
              "    resultPane.classList.remove(\"hidden\");\n",
              "  }\n",
              "}\n",
              "function closePanel(el) {\n",
              "  const panelName = \"#\" + el.getAttribute('paneName')\n",
              "  const resultPane = document.querySelector(panelName + \"-pane\");\n",
              "  if (!resultPane.classList.contains(\"hidden\")) {\n",
              "    resultPane.classList.add(\"hidden\");\n",
              "  }\n",
              "}\n",
              "\n",
              "</script>\n",
              "<div class=\"master-wrapper\">\n",
              "  <div class=\"block master-tbl\"><div>\n",
              "<style scoped>\n",
              "    .dataframe tbody tr th:only-of-type {\n",
              "        vertical-align: middle;\n",
              "    }\n",
              "\n",
              "    .dataframe tbody tr th {\n",
              "        vertical-align: top;\n",
              "    }\n",
              "\n",
              "    .dataframe thead th {\n",
              "        text-align: right;\n",
              "    }\n",
              "</style>\n",
              "<table border=\"1\" class=\"dataframe\">\n",
              "  <thead>\n",
              "    <tr style=\"text-align: right;\">\n",
              "      <th>project</th>\n",
              "      <th>uid</th>\n",
              "      <th>iter</th>\n",
              "      <th>start</th>\n",
              "      <th>state</th>\n",
              "      <th>name</th>\n",
              "      <th>labels</th>\n",
              "      <th>inputs</th>\n",
              "      <th>parameters</th>\n",
              "      <th>results</th>\n",
              "      <th>artifacts</th>\n",
              "    </tr>\n",
              "  </thead>\n",
              "  <tbody>\n",
              "    <tr>\n",
              "      <td>suicide-pred-root</td>\n",
              "      <td><div title=\"c3f461601bee455790cc09f1b0d6e8bf\">...d6e8bf</div></td>\n",
              "      <td>0</td>\n",
              "      <td>Jul 03 15:34:22</td>\n",
              "      <td>completed</td>\n",
              "      <td>transform_dataset</td>\n",
              "      <td><div class=\"dictlist\">kind=</div><div class=\"dictlist\">owner=root</div><div class=\"dictlist\">host=d005ddeacf7e</div></td>\n",
              "      <td><div title=\"store://artifacts/suicide-pred-root/suicide-fetch_data_suicide_dataset:ec18b6e60fd54ac2b02ca337265bd200\">data</div></td>\n",
              "      <td></td>\n",
              "      <td></td>\n",
              "      <td><div title=\"/content/drive/MyDrive/Hackathon/Data/data/suicide_dataset_transformed.csv\">suicide_dataset_transformed</div></td>\n",
              "    </tr>\n",
              "  </tbody>\n",
              "</table>\n",
              "</div></div>\n",
              "  <div id=\"resultf74cd8cb-pane\" class=\"right-pane block hidden\">\n",
              "    <div class=\"pane-header\">\n",
              "      <span id=\"resultf74cd8cb-title\" class=\"pane-header-title\">Title</span>\n",
              "      <span onclick=\"closePanel(this)\" paneName=\"resultf74cd8cb\" class=\"close clickable\">&times;</span>\n",
              "    </div>\n",
              "    <iframe class=\"fileview\" id=\"resultf74cd8cb-body\"></iframe>\n",
              "  </div>\n",
              "</div>\n"
            ],
            "text/plain": [
              "<IPython.core.display.HTML object>"
            ]
          },
          "metadata": {
            "tags": []
          }
        },
        {
          "output_type": "stream",
          "text": [
            "to track results use .show() or .logs() or in CLI: \n",
            "!mlrun get run c3f461601bee455790cc09f1b0d6e8bf --project suicide-pred-root , !mlrun logs c3f461601bee455790cc09f1b0d6e8bf --project suicide-pred-root\n",
            "> 2021-07-03 15:34:23,371 [info] run executed, status=completed\n"
          ],
          "name": "stdout"
        }
      ]
    },
    {
      "cell_type": "code",
      "metadata": {
        "colab": {
          "base_uri": "https://localhost:8080/"
        },
        "id": "FT_RFpWHqX46",
        "outputId": "95680c9c-7b42-4e0f-cc99-b702f1024e50"
      },
      "source": [
        "transform_dataset_run.outputs"
      ],
      "execution_count": 17,
      "outputs": [
        {
          "output_type": "execute_result",
          "data": {
            "text/plain": [
              "{'suicide_dataset_transformed': 'store://artifacts/suicide-pred-root/transform_dataset_suicide_dataset_transformed:c3f461601bee455790cc09f1b0d6e8bf'}"
            ]
          },
          "metadata": {
            "tags": []
          },
          "execution_count": 17
        }
      ]
    },
    {
      "cell_type": "markdown",
      "metadata": {
        "id": "ramqO21b4sBZ"
      },
      "source": [
        "<h3> Train"
      ]
    },
    {
      "cell_type": "code",
      "metadata": {
        "colab": {
          "base_uri": "https://localhost:8080/",
          "height": 270
        },
        "id": "n9hWE7duqhJc",
        "outputId": "b4233b0e-5552-4f21-8f46-06deeda3ffda"
      },
      "source": [
        "train_model_run = suicide_func.run(name='train_model',\n",
        "                                handler='train_model',\n",
        "                                inputs={'input_ds': transform_dataset_run.outputs['suicide_dataset_transformed']},\n",
        "                                local=True)"
      ],
      "execution_count": 18,
      "outputs": [
        {
          "output_type": "stream",
          "text": [
            "> 2021-07-03 15:34:27,760 [info] starting run train_model uid=262bee6ad4d34289825c751cea2e22b0 DB=/content/drive/MyDrive/Hackathon\n",
            "[nltk_data] Downloading package stopwords to /root/nltk_data...\n",
            "[nltk_data]   Package stopwords is already up-to-date!\n",
            "> 2021-07-03 15:34:27,876 [info] Begin training\n",
            "Accuracy: 0.912\n",
            "> 2021-07-03 15:34:43,240 [info] End training\n"
          ],
          "name": "stdout"
        },
        {
          "output_type": "display_data",
          "data": {
            "text/html": [
              "<style>\n",
              ".dictlist {\n",
              "  background-color: #4EC64B;\n",
              "  text-align: center;\n",
              "  margin: 4px;\n",
              "  border-radius: 3px; padding: 0px 3px 1px 3px; display: inline-block;}\n",
              ".artifact {\n",
              "  cursor: pointer;\n",
              "  background-color: #4EC64B;\n",
              "  text-align: left;\n",
              "  margin: 4px; border-radius: 3px; padding: 0px 3px 1px 3px; display: inline-block;\n",
              "}\n",
              "div.block.hidden {\n",
              "  display: none;\n",
              "}\n",
              ".clickable {\n",
              "  cursor: pointer;\n",
              "}\n",
              ".ellipsis {\n",
              "  display: inline-block;\n",
              "  max-width: 60px;\n",
              "  white-space: nowrap;\n",
              "  overflow: hidden;\n",
              "  text-overflow: ellipsis;\n",
              "}\n",
              ".master-wrapper {\n",
              "  display: flex;\n",
              "  flex-flow: row nowrap;\n",
              "  justify-content: flex-start;\n",
              "  align-items: stretch;\n",
              "}\n",
              ".master-tbl {\n",
              "  flex: 3\n",
              "}\n",
              ".master-wrapper > div {\n",
              "  margin: 4px;\n",
              "  padding: 10px;\n",
              "}\n",
              "iframe.fileview {\n",
              "  border: 0 none;\n",
              "  height: 100%;\n",
              "  width: 100%;\n",
              "  white-space: pre-wrap;\n",
              "}\n",
              ".pane-header-title {\n",
              "  width: 80%;\n",
              "  font-weight: 500;\n",
              "}\n",
              ".pane-header {\n",
              "  line-height: 1;\n",
              "  background-color: #4EC64B;\n",
              "  padding: 3px;\n",
              "}\n",
              ".pane-header .close {\n",
              "  font-size: 20px;\n",
              "  font-weight: 700;\n",
              "  float: right;\n",
              "  margin-top: -5px;\n",
              "}\n",
              ".master-wrapper .right-pane {\n",
              "  border: 1px inset silver;\n",
              "  width: 40%;\n",
              "  min-height: 300px;\n",
              "  flex: 3\n",
              "  min-width: 500px;\n",
              "}\n",
              ".master-wrapper * {\n",
              "  box-sizing: border-box;\n",
              "}\n",
              "</style><script>\n",
              "function copyToClipboard(fld) {\n",
              "    if (document.queryCommandSupported && document.queryCommandSupported('copy')) {\n",
              "        var textarea = document.createElement('textarea');\n",
              "        textarea.textContent = fld.innerHTML;\n",
              "        textarea.style.position = 'fixed';\n",
              "        document.body.appendChild(textarea);\n",
              "        textarea.select();\n",
              "\n",
              "        try {\n",
              "            return document.execCommand('copy'); // Security exception may be thrown by some browsers.\n",
              "        } catch (ex) {\n",
              "\n",
              "        } finally {\n",
              "            document.body.removeChild(textarea);\n",
              "        }\n",
              "    }\n",
              "}\n",
              "function expandPanel(el) {\n",
              "  const panelName = \"#\" + el.getAttribute('paneName');\n",
              "  console.log(el.title);\n",
              "\n",
              "  document.querySelector(panelName + \"-title\").innerHTML = el.title\n",
              "  iframe = document.querySelector(panelName + \"-body\");\n",
              "\n",
              "  const tblcss = `<style> body { font-family: Arial, Helvetica, sans-serif;}\n",
              "    #csv { margin-bottom: 15px; }\n",
              "    #csv table { border-collapse: collapse;}\n",
              "    #csv table td { padding: 4px 8px; border: 1px solid silver;} </style>`;\n",
              "\n",
              "  function csvToHtmlTable(str) {\n",
              "    return '<div id=\"csv\"><table><tr><td>' +  str.replace(/[\\n\\r]+$/g, '').replace(/[\\n\\r]+/g, '</td></tr><tr><td>')\n",
              "      .replace(/,/g, '</td><td>') + '</td></tr></table></div>';\n",
              "  }\n",
              "\n",
              "  function reqListener () {\n",
              "    if (el.title.endsWith(\".csv\")) {\n",
              "      iframe.setAttribute(\"srcdoc\", tblcss + csvToHtmlTable(this.responseText));\n",
              "    } else {\n",
              "      iframe.setAttribute(\"srcdoc\", this.responseText);\n",
              "    }\n",
              "    console.log(this.responseText);\n",
              "  }\n",
              "\n",
              "  const oReq = new XMLHttpRequest();\n",
              "  oReq.addEventListener(\"load\", reqListener);\n",
              "  oReq.open(\"GET\", el.title);\n",
              "  oReq.send();\n",
              "\n",
              "\n",
              "  //iframe.src = el.title;\n",
              "  const resultPane = document.querySelector(panelName + \"-pane\");\n",
              "  if (resultPane.classList.contains(\"hidden\")) {\n",
              "    resultPane.classList.remove(\"hidden\");\n",
              "  }\n",
              "}\n",
              "function closePanel(el) {\n",
              "  const panelName = \"#\" + el.getAttribute('paneName')\n",
              "  const resultPane = document.querySelector(panelName + \"-pane\");\n",
              "  if (!resultPane.classList.contains(\"hidden\")) {\n",
              "    resultPane.classList.add(\"hidden\");\n",
              "  }\n",
              "}\n",
              "\n",
              "</script>\n",
              "<div class=\"master-wrapper\">\n",
              "  <div class=\"block master-tbl\"><div>\n",
              "<style scoped>\n",
              "    .dataframe tbody tr th:only-of-type {\n",
              "        vertical-align: middle;\n",
              "    }\n",
              "\n",
              "    .dataframe tbody tr th {\n",
              "        vertical-align: top;\n",
              "    }\n",
              "\n",
              "    .dataframe thead th {\n",
              "        text-align: right;\n",
              "    }\n",
              "</style>\n",
              "<table border=\"1\" class=\"dataframe\">\n",
              "  <thead>\n",
              "    <tr style=\"text-align: right;\">\n",
              "      <th>project</th>\n",
              "      <th>uid</th>\n",
              "      <th>iter</th>\n",
              "      <th>start</th>\n",
              "      <th>state</th>\n",
              "      <th>name</th>\n",
              "      <th>labels</th>\n",
              "      <th>inputs</th>\n",
              "      <th>parameters</th>\n",
              "      <th>results</th>\n",
              "      <th>artifacts</th>\n",
              "    </tr>\n",
              "  </thead>\n",
              "  <tbody>\n",
              "    <tr>\n",
              "      <td>suicide-pred-root</td>\n",
              "      <td><div title=\"262bee6ad4d34289825c751cea2e22b0\">...2e22b0</div></td>\n",
              "      <td>0</td>\n",
              "      <td>Jul 03 15:34:27</td>\n",
              "      <td>completed</td>\n",
              "      <td>train_model</td>\n",
              "      <td><div class=\"dictlist\">kind=</div><div class=\"dictlist\">owner=root</div><div class=\"dictlist\">host=d005ddeacf7e</div></td>\n",
              "      <td><div title=\"store://artifacts/suicide-pred-root/transform_dataset_suicide_dataset_transformed:c3f461601bee455790cc09f1b0d6e8bf\">input_ds</div></td>\n",
              "      <td></td>\n",
              "      <td></td>\n",
              "      <td><div title=\"/content/drive/MyDrive/Hackathon/Data/models\">Suicide_Model</div></td>\n",
              "    </tr>\n",
              "  </tbody>\n",
              "</table>\n",
              "</div></div>\n",
              "  <div id=\"result59e3e728-pane\" class=\"right-pane block hidden\">\n",
              "    <div class=\"pane-header\">\n",
              "      <span id=\"result59e3e728-title\" class=\"pane-header-title\">Title</span>\n",
              "      <span onclick=\"closePanel(this)\" paneName=\"result59e3e728\" class=\"close clickable\">&times;</span>\n",
              "    </div>\n",
              "    <iframe class=\"fileview\" id=\"result59e3e728-body\"></iframe>\n",
              "  </div>\n",
              "</div>\n"
            ],
            "text/plain": [
              "<IPython.core.display.HTML object>"
            ]
          },
          "metadata": {
            "tags": []
          }
        },
        {
          "output_type": "stream",
          "text": [
            "to track results use .show() or .logs() or in CLI: \n",
            "!mlrun get run 262bee6ad4d34289825c751cea2e22b0 --project suicide-pred-root , !mlrun logs 262bee6ad4d34289825c751cea2e22b0 --project suicide-pred-root\n",
            "> 2021-07-03 15:34:43,659 [info] run executed, status=completed\n"
          ],
          "name": "stdout"
        }
      ]
    },
    {
      "cell_type": "code",
      "metadata": {
        "colab": {
          "base_uri": "https://localhost:8080/"
        },
        "id": "ZznxU_9Xsv-o",
        "outputId": "6f8209e0-8cbe-49be-e0fa-bdd228513b49"
      },
      "source": [
        "train_model_run.outputs"
      ],
      "execution_count": 20,
      "outputs": [
        {
          "output_type": "execute_result",
          "data": {
            "text/plain": [
              "{'Suicide_Model': 'store://artifacts/suicide-pred-root/train_model_Suicide_Model:9bd09ee800ff4dd5a29753e24bf5f662'}"
            ]
          },
          "metadata": {
            "tags": []
          },
          "execution_count": 20
        }
      ]
    },
    {
      "cell_type": "markdown",
      "metadata": {
        "id": "OLsacfGM4k97"
      },
      "source": [
        "<h3> Serving "
      ]
    },
    {
      "cell_type": "code",
      "metadata": {
        "colab": {
          "base_uri": "https://localhost:8080/"
        },
        "id": "Khumu8udq5jV",
        "outputId": "7154a172-f204-4ba1-c8c3-a5dec749eee7"
      },
      "source": [
        "serving = mlrun.code_to_function('seving', filename='/content/drive/MyDrive/Hackathon/code-MLRun.ipynb', kind='serving')\n",
        "\n",
        "serving.spec.default_class = 'SuicideModel'\n",
        "serving.add_model('suicide-serving', train_model_run.outputs['Suicide_Model'])\n",
        "# serving_address = serving.deploy()"
      ],
      "execution_count": 54,
      "outputs": [
        {
          "output_type": "execute_result",
          "data": {
            "text/plain": [
              "<mlrun.serving.states.TaskState at 0x7fb8824f6ed0>"
            ]
          },
          "metadata": {
            "tags": []
          },
          "execution_count": 54
        }
      ]
    },
    {
      "cell_type": "code",
      "metadata": {
        "colab": {
          "base_uri": "https://localhost:8080/"
        },
        "id": "UvXShdk3wQ4B",
        "outputId": "0ec38d97-5403-40f4-a29a-15e81b2aef74"
      },
      "source": [
        "my_data = '''{\"inputs\":[\"I'll kill myself am tired of living depressed and alone\"]}'''\n",
        "\n",
        "server = serving.to_mock_server()\n",
        "server.test(\"/v2/models/suicide-serving/infer\", body=my_data)"
      ],
      "execution_count": 57,
      "outputs": [
        {
          "output_type": "stream",
          "text": [
            "> 2021-07-03 19:38:08,672 [info] model suicide-serving was loaded\n",
            "> 2021-07-03 19:38:08,676 [info] Loaded ['suicide-serving']\n",
            "hi\n"
          ],
          "name": "stdout"
        },
        {
          "output_type": "execute_result",
          "data": {
            "text/plain": [
              "{'id': '7e8441fa8b4e429f8a75dc7c01761372',\n",
              " 'model_name': 'suicide-serving',\n",
              " 'outputs': [1]}"
            ]
          },
          "metadata": {
            "tags": []
          },
          "execution_count": 57
        }
      ]
    },
    {
      "cell_type": "code",
      "metadata": {
        "colab": {
          "base_uri": "https://localhost:8080/"
        },
        "id": "JqKGR-vP4R4R",
        "outputId": "6b367453-f6a5-43f4-ee97-037cdbd8b802"
      },
      "source": [
        "my_data = '''{\"inputs\":[\"It's such a hot day, I'd like to have ice cream and visit the park\"]}'''\n",
        "\n",
        "server = serving.to_mock_server()\n",
        "server.test(\"/v2/models/suicide-serving/infer\", body=my_data)"
      ],
      "execution_count": 58,
      "outputs": [
        {
          "output_type": "stream",
          "text": [
            "> 2021-07-03 19:39:13,061 [info] model suicide-serving was loaded\n",
            "> 2021-07-03 19:39:13,063 [info] Loaded ['suicide-serving']\n",
            "hi\n"
          ],
          "name": "stdout"
        },
        {
          "output_type": "execute_result",
          "data": {
            "text/plain": [
              "{'id': '9d49bf632e38457ebf790655edec0205',\n",
              " 'model_name': 'suicide-serving',\n",
              " 'outputs': [0]}"
            ]
          },
          "metadata": {
            "tags": []
          },
          "execution_count": 58
        }
      ]
    }
  ]
}