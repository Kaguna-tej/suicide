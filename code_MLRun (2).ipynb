{
  "nbformat": 4,
  "nbformat_minor": 0,
  "metadata": {
    "kernelspec": {
      "display_name": "Python 3",
      "language": "python",
      "name": "python3"
    },
    "language_info": {
      "codemirror_mode": {
        "name": "ipython",
        "version": 3
      },
      "file_extension": ".py",
      "mimetype": "text/x-python",
      "name": "python",
      "nbconvert_exporter": "python",
      "pygments_lexer": "ipython3",
      "version": "3.8.8"
    },
    "colab": {
      "name": "code_MLRun.ipynb",
      "provenance": [],
      "collapsed_sections": []
    }
  },
  "cells": [
    {
      "cell_type": "markdown",
      "metadata": {
        "id": "PU25QG73Ab9h"
      },
      "source": [
        "### Import Libraries"
      ]
    },
    {
      "cell_type": "code",
      "metadata": {
        "id": "QHbeEId2CaA0",
        "colab": {
          "base_uri": "https://localhost:8080/",
          "height": 1000
        },
        "outputId": "417ebec8-7a20-4162-f7c0-0ecf00df109e"
      },
      "source": [
        "!pip install mlrun"
      ],
      "execution_count": null,
      "outputs": [
        {
          "output_type": "stream",
          "text": [
            "Collecting mlrun\n",
            "\u001b[?25l  Downloading https://files.pythonhosted.org/packages/7d/0a/ca65015351d8adf2462b47c7b56f3f731c7c413f9c53a1184573e8981548/mlrun-0.6.4-py3-none-any.whl (458kB)\n",
            "\u001b[K     |████████████████████████████████| 460kB 6.5MB/s \n",
            "\u001b[?25hCollecting pyarrow~=1.0\n",
            "\u001b[?25l  Downloading https://files.pythonhosted.org/packages/16/ac/27e43841150925a6e5903470de4d02ca8938d68baf752fbf01157723c92c/pyarrow-1.0.1-cp37-cp37m-manylinux2014_x86_64.whl (17.3MB)\n",
            "\u001b[K     |████████████████████████████████| 17.3MB 175kB/s \n",
            "\u001b[?25hCollecting distributed<3,>=2.23\n",
            "\u001b[?25l  Downloading https://files.pythonhosted.org/packages/88/38/d9f0e31c15de18cb124d1ed33cf9c99c84f05f251ff6767e7573c217725b/distributed-2.30.1-py3-none-any.whl (656kB)\n",
            "\u001b[K     |████████████████████████████████| 665kB 40.4MB/s \n",
            "\u001b[?25hCollecting pydantic~=1.5\n",
            "\u001b[?25l  Downloading https://files.pythonhosted.org/packages/9f/f2/2d5425efe57f6c4e06cbe5e587c1fd16929dcf0eb90bd4d3d1e1c97d1151/pydantic-1.8.2-cp37-cp37m-manylinux2014_x86_64.whl (10.1MB)\n",
            "\u001b[K     |████████████████████████████████| 10.1MB 26.8MB/s \n",
            "\u001b[?25hCollecting storey~=0.5.4; python_version >= \"3.7\"\n",
            "\u001b[?25l  Downloading https://files.pythonhosted.org/packages/40/7a/17fae4c849238108456126b29fc3e075fed01f8ded0233253bdcc6a65d6f/storey-0.5.4-py3-none-any.whl (99kB)\n",
            "\u001b[K     |████████████████████████████████| 102kB 10.3MB/s \n",
            "\u001b[?25hRequirement already satisfied: sqlalchemy~=1.3 in /usr/local/lib/python3.7/dist-packages (from mlrun) (1.4.18)\n",
            "Collecting pyyaml~=5.1\n",
            "\u001b[?25l  Downloading https://files.pythonhosted.org/packages/7a/a5/393c087efdc78091afa2af9f1378762f9821c9c1d7a22c5753fb5ac5f97a/PyYAML-5.4.1-cp37-cp37m-manylinux1_x86_64.whl (636kB)\n",
            "\u001b[K     |████████████████████████████████| 645kB 34.7MB/s \n",
            "\u001b[?25hCollecting mergedeep~=1.3\n",
            "  Downloading https://files.pythonhosted.org/packages/2c/19/04f9b178c2d8a15b076c8b5140708fa6ffc5601fb6f1e975537072df5b2a/mergedeep-1.3.4-py3-none-any.whl\n",
            "Collecting GitPython~=3.0\n",
            "\u001b[?25l  Downloading https://files.pythonhosted.org/packages/bc/91/b38c4fabb6e5092ab23492ded4f318ab7299b19263272b703478038c0fbc/GitPython-3.1.18-py3-none-any.whl (170kB)\n",
            "\u001b[K     |████████████████████████████████| 174kB 43.9MB/s \n",
            "\u001b[?25hRequirement already satisfied: nest-asyncio~=1.0 in /usr/local/lib/python3.7/dist-packages (from mlrun) (1.5.1)\n",
            "Collecting tabulate<=0.8.3,>=0.8.0\n",
            "\u001b[?25l  Downloading https://files.pythonhosted.org/packages/c2/fd/202954b3f0eb896c53b7b6f07390851b1fd2ca84aa95880d7ae4f434c4ac/tabulate-0.8.3.tar.gz (46kB)\n",
            "\u001b[K     |████████████████████████████████| 51kB 6.3MB/s \n",
            "\u001b[?25hCollecting kubernetes~=11.0\n",
            "\u001b[?25l  Downloading https://files.pythonhosted.org/packages/59/46/d4b9364fcab59b5f9248e014c7592df8de84ad6548a6fe3de2d805bb75fc/kubernetes-11.0.0-py3-none-any.whl (1.5MB)\n",
            "\u001b[K     |████████████████████████████████| 1.5MB 33.9MB/s \n",
            "\u001b[?25hCollecting v3iofs~=0.1.5\n",
            "  Downloading https://files.pythonhosted.org/packages/c9/73/4421975ae2da8726c8fde487117472b65a258df2b77d430a7f09378a81bb/v3iofs-0.1.7.tar.gz\n",
            "Requirement already satisfied: requests~=2.22 in /usr/local/lib/python3.7/dist-packages (from mlrun) (2.23.0)\n",
            "Collecting cryptography~=3.3.2\n",
            "\u001b[?25l  Downloading https://files.pythonhosted.org/packages/c6/d1/800ec785c9e66cc6d0ac587bd666eb22f7b2ff6c150e053d35881acd2f57/cryptography-3.3.2-cp36-abi3-manylinux2010_x86_64.whl (2.6MB)\n",
            "\u001b[K     |████████████████████████████████| 2.6MB 38.1MB/s \n",
            "\u001b[?25hCollecting orjson<3.4,>=3\n",
            "\u001b[?25l  Downloading https://files.pythonhosted.org/packages/a1/78/2ed86cccaecd6d8bc150ddc3feeb7d466f51c3bf9c4ef387cdeee3318716/orjson-3.3.1-cp37-cp37m-manylinux2014_x86_64.whl (208kB)\n",
            "\u001b[K     |████████████████████████████████| 215kB 52.4MB/s \n",
            "\u001b[?25hRequirement already satisfied: semver~=2.13 in /usr/local/lib/python3.7/dist-packages (from mlrun) (2.13.0)\n",
            "Collecting v3io-frames~=0.8.5\n",
            "  Downloading https://files.pythonhosted.org/packages/e5/b1/d5a799d03b42237ed8e6251dea954ea846a7ff2de1464b68e61b10ad7ca8/v3io_frames-0.8.14-py3-none-any.whl\n",
            "Collecting urllib3<1.27,>=1.25.4\n",
            "\u001b[?25l  Downloading https://files.pythonhosted.org/packages/5f/64/43575537846896abac0b15c3e5ac678d787a4021e906703f1766bfb8ea11/urllib3-1.26.6-py2.py3-none-any.whl (138kB)\n",
            "\u001b[K     |████████████████████████████████| 143kB 55.4MB/s \n",
            "\u001b[?25hRequirement already satisfied: chardet<4.0,>=3.0.2 in /usr/local/lib/python3.7/dist-packages (from mlrun) (3.0.4)\n",
            "Requirement already satisfied: ipython<7.17,>=5.5 in /usr/local/lib/python3.7/dist-packages (from mlrun) (5.5.0)\n",
            "Collecting v3io~=0.5.8\n",
            "\u001b[?25l  Downloading https://files.pythonhosted.org/packages/80/eb/a48887bfe8373d5779575385b09533b73582c8a6724437121e3130714aa8/v3io-0.5.8-py3-none-any.whl (49kB)\n",
            "\u001b[K     |████████████████████████████████| 51kB 6.6MB/s \n",
            "\u001b[?25hCollecting humanfriendly~=8.2\n",
            "\u001b[?25l  Downloading https://files.pythonhosted.org/packages/8e/2d/2f1b0a780b8c948c06c74c8c80e68ac354da52397ba432a1c5ac1923c3af/humanfriendly-8.2-py2.py3-none-any.whl (86kB)\n",
            "\u001b[K     |████████████████████████████████| 92kB 10.0MB/s \n",
            "\u001b[?25hRequirement already satisfied: click~=7.0 in /usr/local/lib/python3.7/dist-packages (from mlrun) (7.1.2)\n",
            "Collecting kfp~=1.0.1\n",
            "\u001b[?25l  Downloading https://files.pythonhosted.org/packages/d5/a9/efa8fcc2d087396bb5becf70dea01588dbd37d1612dbefcb21a156eca5a1/kfp-1.0.4.tar.gz (116kB)\n",
            "\u001b[K     |████████████████████████████████| 122kB 53.0MB/s \n",
            "\u001b[?25hCollecting pandas~=1.2; python_version >= \"3.7\"\n",
            "\u001b[?25l  Downloading https://files.pythonhosted.org/packages/99/f7/01cea7f6c963100f045876eb4aa1817069c5c9eca73d2dbfb5d31ff9a39f/pandas-1.3.0-cp37-cp37m-manylinux_2_5_x86_64.manylinux1_x86_64.whl (10.8MB)\n",
            "\u001b[K     |████████████████████████████████| 10.8MB 20.4MB/s \n",
            "\u001b[?25hCollecting fsspec~=0.9.0\n",
            "\u001b[?25l  Downloading https://files.pythonhosted.org/packages/62/11/f7689b996f85e45f718745c899f6747ee5edb4878cadac0a41ab146828fa/fsspec-0.9.0-py3-none-any.whl (107kB)\n",
            "\u001b[K     |████████████████████████████████| 112kB 56.6MB/s \n",
            "\u001b[?25hCollecting nuclio-jupyter~=0.8.15\n",
            "\u001b[?25l  Downloading https://files.pythonhosted.org/packages/e2/78/62f6a374ae4dc0c0f8e791c1cfc2b4dc62c891e906e4f0b203c26abbb16e/nuclio_jupyter-0.8.15-py3-none-any.whl (46kB)\n",
            "\u001b[K     |████████████████████████████████| 51kB 4.9MB/s \n",
            "\u001b[?25hCollecting fastapi~=0.62.0\n",
            "\u001b[?25l  Downloading https://files.pythonhosted.org/packages/09/9b/e45a36554f7452f6d372e607a647c3827434f5b353ef4630a7432514c928/fastapi-0.62.0-py3-none-any.whl (49kB)\n",
            "\u001b[K     |████████████████████████████████| 51kB 5.8MB/s \n",
            "\u001b[?25hCollecting alembic<1.6.0,~=1.4\n",
            "\u001b[?25l  Downloading https://files.pythonhosted.org/packages/72/a4/97eb6273839655cac14947986fa7a5935350fcfd4fff872e9654264c82d8/alembic-1.5.8-py2.py3-none-any.whl (159kB)\n",
            "\u001b[K     |████████████████████████████████| 163kB 46.3MB/s \n",
            "\u001b[?25hCollecting aiohttp~=3.6\n",
            "\u001b[?25l  Downloading https://files.pythonhosted.org/packages/88/c0/5890b4c8b04a79b7360e8fe4490feb0bb3ab179743f199f0e6220cebd568/aiohttp-3.7.4.post0-cp37-cp37m-manylinux2014_x86_64.whl (1.3MB)\n",
            "\u001b[K     |████████████████████████████████| 1.3MB 29.8MB/s \n",
            "\u001b[?25hRequirement already satisfied: dask~=2.12 in /usr/local/lib/python3.7/dist-packages (from mlrun) (2.12.0)\n",
            "Requirement already satisfied: numpy<1.20.0,>=1.16.5 in /usr/local/lib/python3.7/dist-packages (from mlrun) (1.19.5)\n",
            "Requirement already satisfied: toolz>=0.8.2 in /usr/local/lib/python3.7/dist-packages (from distributed<3,>=2.23->mlrun) (0.11.1)\n",
            "Requirement already satisfied: psutil>=5.0 in /usr/local/lib/python3.7/dist-packages (from distributed<3,>=2.23->mlrun) (5.4.8)\n",
            "Requirement already satisfied: sortedcontainers!=2.0.0,!=2.0.1 in /usr/local/lib/python3.7/dist-packages (from distributed<3,>=2.23->mlrun) (2.4.0)\n",
            "Requirement already satisfied: msgpack>=0.6.0 in /usr/local/lib/python3.7/dist-packages (from distributed<3,>=2.23->mlrun) (1.0.2)\n",
            "Requirement already satisfied: setuptools in /usr/local/lib/python3.7/dist-packages (from distributed<3,>=2.23->mlrun) (57.0.0)\n",
            "Requirement already satisfied: tblib>=1.6.0 in /usr/local/lib/python3.7/dist-packages (from distributed<3,>=2.23->mlrun) (1.7.0)\n",
            "Requirement already satisfied: tornado>=5; python_version < \"3.8\" in /usr/local/lib/python3.7/dist-packages (from distributed<3,>=2.23->mlrun) (5.1.1)\n",
            "Requirement already satisfied: zict>=0.1.3 in /usr/local/lib/python3.7/dist-packages (from distributed<3,>=2.23->mlrun) (2.0.0)\n",
            "Collecting cloudpickle>=1.5.0\n",
            "  Downloading https://files.pythonhosted.org/packages/e7/e3/898487e5dbeb612054cf2e0c188463acb358167fef749c53c8bb8918cea1/cloudpickle-1.6.0-py3-none-any.whl\n",
            "Requirement already satisfied: typing-extensions>=3.7.4.3 in /usr/local/lib/python3.7/dist-packages (from pydantic~=1.5->mlrun) (3.7.4.3)\n",
            "Collecting grpcio-tools~=1.30.0\n",
            "\u001b[?25l  Downloading https://files.pythonhosted.org/packages/73/f1/9c0c521422147788629cbba859688497942d873d35354f63f5d7f99971c1/grpcio_tools-1.30.0-cp37-cp37m-manylinux2010_x86_64.whl (2.5MB)\n",
            "\u001b[K     |████████████████████████████████| 2.5MB 23.6MB/s \n",
            "\u001b[?25hCollecting grpcio~=1.30.0\n",
            "\u001b[?25l  Downloading https://files.pythonhosted.org/packages/cf/10/ed3caaa9e4c1b8c275b866438e2047d34d5e64dacc75dd0b1daf28ae07af/grpcio-1.30.0-cp37-cp37m-manylinux2010_x86_64.whl (3.0MB)\n",
            "\u001b[K     |████████████████████████████████| 3.0MB 27.9MB/s \n",
            "\u001b[?25hRequirement already satisfied: importlib-metadata; python_version < \"3.8\" in /usr/local/lib/python3.7/dist-packages (from sqlalchemy~=1.3->mlrun) (4.5.0)\n",
            "Requirement already satisfied: greenlet!=0.4.17; python_version >= \"3\" in /usr/local/lib/python3.7/dist-packages (from sqlalchemy~=1.3->mlrun) (1.1.0)\n",
            "Collecting gitdb<5,>=4.0.1\n",
            "\u001b[?25l  Downloading https://files.pythonhosted.org/packages/ea/e8/f414d1a4f0bbc668ed441f74f44c116d9816833a48bf81d22b697090dba8/gitdb-4.0.7-py3-none-any.whl (63kB)\n",
            "\u001b[K     |████████████████████████████████| 71kB 8.3MB/s \n",
            "\u001b[?25hRequirement already satisfied: six>=1.9.0 in /usr/local/lib/python3.7/dist-packages (from kubernetes~=11.0->mlrun) (1.15.0)\n",
            "Requirement already satisfied: certifi>=14.05.14 in /usr/local/lib/python3.7/dist-packages (from kubernetes~=11.0->mlrun) (2021.5.30)\n",
            "Requirement already satisfied: google-auth>=1.0.1 in /usr/local/lib/python3.7/dist-packages (from kubernetes~=11.0->mlrun) (1.31.0)\n",
            "Requirement already satisfied: requests-oauthlib in /usr/local/lib/python3.7/dist-packages (from kubernetes~=11.0->mlrun) (1.3.0)\n",
            "Requirement already satisfied: python-dateutil>=2.5.3 in /usr/local/lib/python3.7/dist-packages (from kubernetes~=11.0->mlrun) (2.8.1)\n",
            "Collecting websocket-client!=0.40.0,!=0.41.*,!=0.42.*,>=0.32.0\n",
            "\u001b[?25l  Downloading https://files.pythonhosted.org/packages/ca/5f/3c211d168b2e9f9342cfb53bcfc26aab0eac63b998015e7af7bcae66119d/websocket_client-1.1.0-py2.py3-none-any.whl (68kB)\n",
            "\u001b[K     |████████████████████████████████| 71kB 8.6MB/s \n",
            "\u001b[?25hRequirement already satisfied: idna<3,>=2.5 in /usr/local/lib/python3.7/dist-packages (from requests~=2.22->mlrun) (2.10)\n",
            "Requirement already satisfied: cffi>=1.12 in /usr/local/lib/python3.7/dist-packages (from cryptography~=3.3.2->mlrun) (1.14.5)\n",
            "Requirement already satisfied: googleapis-common-protos>=1.5.3 in /usr/local/lib/python3.7/dist-packages (from v3io-frames~=0.8.5->mlrun) (1.53.0)\n",
            "Requirement already satisfied: decorator in /usr/local/lib/python3.7/dist-packages (from ipython<7.17,>=5.5->mlrun) (4.4.2)\n",
            "Requirement already satisfied: pickleshare in /usr/local/lib/python3.7/dist-packages (from ipython<7.17,>=5.5->mlrun) (0.7.5)\n",
            "Requirement already satisfied: prompt-toolkit<2.0.0,>=1.0.4 in /usr/local/lib/python3.7/dist-packages (from ipython<7.17,>=5.5->mlrun) (1.0.18)\n",
            "Requirement already satisfied: pexpect; sys_platform != \"win32\" in /usr/local/lib/python3.7/dist-packages (from ipython<7.17,>=5.5->mlrun) (4.8.0)\n",
            "Requirement already satisfied: simplegeneric>0.8 in /usr/local/lib/python3.7/dist-packages (from ipython<7.17,>=5.5->mlrun) (0.8.1)\n",
            "Requirement already satisfied: pygments in /usr/local/lib/python3.7/dist-packages (from ipython<7.17,>=5.5->mlrun) (2.6.1)\n",
            "Requirement already satisfied: traitlets>=4.2 in /usr/local/lib/python3.7/dist-packages (from ipython<7.17,>=5.5->mlrun) (5.0.5)\n",
            "Collecting future>=0.18.2\n",
            "\u001b[?25l  Downloading https://files.pythonhosted.org/packages/45/0b/38b06fd9b92dc2b68d58b75f900e97884c45bedd2ff83203d933cf5851c9/future-0.18.2.tar.gz (829kB)\n",
            "\u001b[K     |████████████████████████████████| 829kB 30.9MB/s \n",
            "\u001b[?25hCollecting ujson>=3.0.0\n",
            "\u001b[?25l  Downloading https://files.pythonhosted.org/packages/17/4e/50e8e4cf5f00b537095711c2c86ac4d7191aed2b4fffd5a19f06898f6929/ujson-4.0.2-cp37-cp37m-manylinux1_x86_64.whl (179kB)\n",
            "\u001b[K     |████████████████████████████████| 184kB 50.3MB/s \n",
            "\u001b[?25hRequirement already satisfied: google-cloud-storage>=1.13.0 in /usr/local/lib/python3.7/dist-packages (from kfp~=1.0.1->mlrun) (1.18.1)\n",
            "Collecting requests_toolbelt>=0.8.0\n",
            "\u001b[?25l  Downloading https://files.pythonhosted.org/packages/60/ef/7681134338fc097acef8d9b2f8abe0458e4d87559c689a8c306d0957ece5/requests_toolbelt-0.9.1-py2.py3-none-any.whl (54kB)\n",
            "\u001b[K     |████████████████████████████████| 61kB 8.2MB/s \n",
            "\u001b[?25hCollecting kfp-server-api<2.0.0,>=0.2.5\n",
            "\u001b[?25l  Downloading https://files.pythonhosted.org/packages/34/15/72c49038a9ab4b8d22b961b4e02dd300d5f36cb3933891270725b95a834c/kfp-server-api-1.6.0.tar.gz (52kB)\n",
            "\u001b[K     |████████████████████████████████| 61kB 8.3MB/s \n",
            "\u001b[?25hCollecting jsonschema>=3.0.1\n",
            "\u001b[?25l  Downloading https://files.pythonhosted.org/packages/c5/8f/51e89ce52a085483359217bc72cdbf6e75ee595d5b1d4b5ade40c7e018b8/jsonschema-3.2.0-py2.py3-none-any.whl (56kB)\n",
            "\u001b[K     |████████████████████████████████| 61kB 7.2MB/s \n",
            "\u001b[?25hCollecting Deprecated\n",
            "  Downloading https://files.pythonhosted.org/packages/fb/73/994edfcba74443146c84b91921fcc269374354118d4f452fb0c54c1cbb12/Deprecated-1.2.12-py2.py3-none-any.whl\n",
            "Collecting strip-hints\n",
            "  Downloading https://files.pythonhosted.org/packages/72/a5/1b8e2990d3f2b24a83d682607a0de5a745ad24de1b2bca33b1561c303a9c/strip-hints-0.1.9.tar.gz\n",
            "Requirement already satisfied: pytz>=2017.3 in /usr/local/lib/python3.7/dist-packages (from pandas~=1.2; python_version >= \"3.7\"->mlrun) (2018.9)\n",
            "Collecting boto3>=1.9\n",
            "\u001b[?25l  Downloading https://files.pythonhosted.org/packages/2c/e1/2c6c374f043c3f22829563b7fb2bf28fe3dca7ce5994bc5ceeff0959d6c9/boto3-1.17.105-py2.py3-none-any.whl (131kB)\n",
            "\u001b[K     |████████████████████████████████| 133kB 47.4MB/s \n",
            "\u001b[?25hRequirement already satisfied: notebook>=5.2.0 in /usr/local/lib/python3.7/dist-packages (from nuclio-jupyter~=0.8.15->mlrun) (5.3.1)\n",
            "Requirement already satisfied: nbconvert>=5.4 in /usr/local/lib/python3.7/dist-packages (from nuclio-jupyter~=0.8.15->mlrun) (5.6.1)\n",
            "Collecting starlette==0.13.6\n",
            "\u001b[?25l  Downloading https://files.pythonhosted.org/packages/c5/a4/c9e228d7d47044ce4c83ba002f28ff479e542455f0499198a3f77c94f564/starlette-0.13.6-py3-none-any.whl (59kB)\n",
            "\u001b[K     |████████████████████████████████| 61kB 7.1MB/s \n",
            "\u001b[?25hCollecting Mako\n",
            "\u001b[?25l  Downloading https://files.pythonhosted.org/packages/f3/54/dbc07fbb20865d3b78fdb7cf7fa713e2cba4f87f71100074ef2dc9f9d1f7/Mako-1.1.4-py2.py3-none-any.whl (75kB)\n",
            "\u001b[K     |████████████████████████████████| 81kB 9.8MB/s \n",
            "\u001b[?25hCollecting python-editor>=0.3\n",
            "  Downloading https://files.pythonhosted.org/packages/c6/d3/201fc3abe391bbae6606e6f1d598c15d367033332bd54352b12f35513717/python_editor-1.0.4-py3-none-any.whl\n",
            "Collecting async-timeout<4.0,>=3.0\n",
            "  Downloading https://files.pythonhosted.org/packages/e1/1e/5a4441be21b0726c4464f3f23c8b19628372f606755a9d2e46c187e65ec4/async_timeout-3.0.1-py3-none-any.whl\n",
            "Collecting multidict<7.0,>=4.5\n",
            "\u001b[?25l  Downloading https://files.pythonhosted.org/packages/7c/a6/4123b8165acbe773d1a8dc8e3f0d1edea16d29f7de018eda769abb56bd30/multidict-5.1.0-cp37-cp37m-manylinux2014_x86_64.whl (142kB)\n",
            "\u001b[K     |████████████████████████████████| 143kB 54.3MB/s \n",
            "\u001b[?25hCollecting yarl<2.0,>=1.0\n",
            "\u001b[?25l  Downloading https://files.pythonhosted.org/packages/f1/62/046834c5fc998c88ab2ef722f5d42122230a632212c8afa76418324f53ff/yarl-1.6.3-cp37-cp37m-manylinux2014_x86_64.whl (294kB)\n",
            "\u001b[K     |████████████████████████████████| 296kB 49.9MB/s \n",
            "\u001b[?25hRequirement already satisfied: attrs>=17.3.0 in /usr/local/lib/python3.7/dist-packages (from aiohttp~=3.6->mlrun) (21.2.0)\n",
            "Requirement already satisfied: heapdict in /usr/local/lib/python3.7/dist-packages (from zict>=0.1.3->distributed<3,>=2.23->mlrun) (1.0.1)\n",
            "Requirement already satisfied: protobuf>=3.5.0.post1 in /usr/local/lib/python3.7/dist-packages (from grpcio-tools~=1.30.0->storey~=0.5.4; python_version >= \"3.7\"->mlrun) (3.12.4)\n",
            "Requirement already satisfied: zipp>=0.5 in /usr/local/lib/python3.7/dist-packages (from importlib-metadata; python_version < \"3.8\"->sqlalchemy~=1.3->mlrun) (3.4.1)\n",
            "Collecting smmap<5,>=3.0.1\n",
            "  Downloading https://files.pythonhosted.org/packages/68/ee/d540eb5e5996eb81c26ceffac6ee49041d473bc5125f2aa995cf51ec1cf1/smmap-4.0.0-py2.py3-none-any.whl\n",
            "Requirement already satisfied: rsa<5,>=3.1.4; python_version >= \"3.6\" in /usr/local/lib/python3.7/dist-packages (from google-auth>=1.0.1->kubernetes~=11.0->mlrun) (4.7.2)\n",
            "Requirement already satisfied: cachetools<5.0,>=2.0.0 in /usr/local/lib/python3.7/dist-packages (from google-auth>=1.0.1->kubernetes~=11.0->mlrun) (4.2.2)\n",
            "Requirement already satisfied: pyasn1-modules>=0.2.1 in /usr/local/lib/python3.7/dist-packages (from google-auth>=1.0.1->kubernetes~=11.0->mlrun) (0.2.8)\n",
            "Requirement already satisfied: oauthlib>=3.0.0 in /usr/local/lib/python3.7/dist-packages (from requests-oauthlib->kubernetes~=11.0->mlrun) (3.1.1)\n",
            "Requirement already satisfied: pycparser in /usr/local/lib/python3.7/dist-packages (from cffi>=1.12->cryptography~=3.3.2->mlrun) (2.20)\n",
            "Requirement already satisfied: wcwidth in /usr/local/lib/python3.7/dist-packages (from prompt-toolkit<2.0.0,>=1.0.4->ipython<7.17,>=5.5->mlrun) (0.2.5)\n",
            "Requirement already satisfied: ptyprocess>=0.5 in /usr/local/lib/python3.7/dist-packages (from pexpect; sys_platform != \"win32\"->ipython<7.17,>=5.5->mlrun) (0.7.0)\n",
            "Requirement already satisfied: ipython-genutils in /usr/local/lib/python3.7/dist-packages (from traitlets>=4.2->ipython<7.17,>=5.5->mlrun) (0.2.0)\n",
            "Requirement already satisfied: google-resumable-media<0.5.0dev,>=0.3.1 in /usr/local/lib/python3.7/dist-packages (from google-cloud-storage>=1.13.0->kfp~=1.0.1->mlrun) (0.4.1)\n",
            "Requirement already satisfied: google-cloud-core<2.0dev,>=1.0.0 in /usr/local/lib/python3.7/dist-packages (from google-cloud-storage>=1.13.0->kfp~=1.0.1->mlrun) (1.0.3)\n",
            "Requirement already satisfied: pyrsistent>=0.14.0 in /usr/local/lib/python3.7/dist-packages (from jsonschema>=3.0.1->kfp~=1.0.1->mlrun) (0.17.3)\n",
            "Requirement already satisfied: wrapt<2,>=1.10 in /usr/local/lib/python3.7/dist-packages (from Deprecated->kfp~=1.0.1->mlrun) (1.12.1)\n",
            "Requirement already satisfied: wheel in /usr/local/lib/python3.7/dist-packages (from strip-hints->kfp~=1.0.1->mlrun) (0.36.2)\n",
            "Collecting botocore<1.21.0,>=1.20.105\n",
            "\u001b[?25l  Downloading https://files.pythonhosted.org/packages/95/da/3417300f85ba5173e8dba9248b9ae8bcb74a8aac1c92fa3d257f99073b9e/botocore-1.20.105-py2.py3-none-any.whl (7.7MB)\n",
            "\u001b[K     |████████████████████████████████| 7.7MB 25.1MB/s \n",
            "\u001b[?25hCollecting s3transfer<0.5.0,>=0.4.0\n",
            "\u001b[?25l  Downloading https://files.pythonhosted.org/packages/63/d0/693477c688348654ddc21dcdce0817653a294aa43f41771084c25e7ff9c7/s3transfer-0.4.2-py2.py3-none-any.whl (79kB)\n",
            "\u001b[K     |████████████████████████████████| 81kB 9.1MB/s \n",
            "\u001b[?25hCollecting jmespath<1.0.0,>=0.7.1\n",
            "  Downloading https://files.pythonhosted.org/packages/07/cb/5f001272b6faeb23c1c9e0acc04d48eaaf5c862c17709d20e3469c6e0139/jmespath-0.10.0-py2.py3-none-any.whl\n",
            "Requirement already satisfied: jinja2 in /usr/local/lib/python3.7/dist-packages (from notebook>=5.2.0->nuclio-jupyter~=0.8.15->mlrun) (2.11.3)\n",
            "Requirement already satisfied: terminado>=0.8.1 in /usr/local/lib/python3.7/dist-packages (from notebook>=5.2.0->nuclio-jupyter~=0.8.15->mlrun) (0.10.1)\n",
            "Requirement already satisfied: jupyter-core>=4.4.0 in /usr/local/lib/python3.7/dist-packages (from notebook>=5.2.0->nuclio-jupyter~=0.8.15->mlrun) (4.7.1)\n",
            "Requirement already satisfied: jupyter-client>=5.2.0 in /usr/local/lib/python3.7/dist-packages (from notebook>=5.2.0->nuclio-jupyter~=0.8.15->mlrun) (5.3.5)\n",
            "Requirement already satisfied: nbformat in /usr/local/lib/python3.7/dist-packages (from notebook>=5.2.0->nuclio-jupyter~=0.8.15->mlrun) (5.1.3)\n",
            "Requirement already satisfied: ipykernel in /usr/local/lib/python3.7/dist-packages (from notebook>=5.2.0->nuclio-jupyter~=0.8.15->mlrun) (4.10.1)\n",
            "Requirement already satisfied: Send2Trash in /usr/local/lib/python3.7/dist-packages (from notebook>=5.2.0->nuclio-jupyter~=0.8.15->mlrun) (1.5.0)\n",
            "Requirement already satisfied: entrypoints>=0.2.2 in /usr/local/lib/python3.7/dist-packages (from nbconvert>=5.4->nuclio-jupyter~=0.8.15->mlrun) (0.3)\n",
            "Requirement already satisfied: mistune<2,>=0.8.1 in /usr/local/lib/python3.7/dist-packages (from nbconvert>=5.4->nuclio-jupyter~=0.8.15->mlrun) (0.8.4)\n",
            "Requirement already satisfied: testpath in /usr/local/lib/python3.7/dist-packages (from nbconvert>=5.4->nuclio-jupyter~=0.8.15->mlrun) (0.5.0)\n",
            "Requirement already satisfied: defusedxml in /usr/local/lib/python3.7/dist-packages (from nbconvert>=5.4->nuclio-jupyter~=0.8.15->mlrun) (0.7.1)\n",
            "Requirement already satisfied: bleach in /usr/local/lib/python3.7/dist-packages (from nbconvert>=5.4->nuclio-jupyter~=0.8.15->mlrun) (3.3.0)\n",
            "Requirement already satisfied: pandocfilters>=1.4.1 in /usr/local/lib/python3.7/dist-packages (from nbconvert>=5.4->nuclio-jupyter~=0.8.15->mlrun) (1.4.3)\n",
            "Requirement already satisfied: MarkupSafe>=0.9.2 in /usr/local/lib/python3.7/dist-packages (from Mako->alembic<1.6.0,~=1.4->mlrun) (2.0.1)\n",
            "Requirement already satisfied: pyasn1>=0.1.3 in /usr/local/lib/python3.7/dist-packages (from rsa<5,>=3.1.4; python_version >= \"3.6\"->google-auth>=1.0.1->kubernetes~=11.0->mlrun) (0.4.8)\n",
            "Requirement already satisfied: google-api-core<2.0.0dev,>=1.14.0 in /usr/local/lib/python3.7/dist-packages (from google-cloud-core<2.0dev,>=1.0.0->google-cloud-storage>=1.13.0->kfp~=1.0.1->mlrun) (1.26.3)\n",
            "Requirement already satisfied: pyzmq>=13 in /usr/local/lib/python3.7/dist-packages (from jupyter-client>=5.2.0->notebook>=5.2.0->nuclio-jupyter~=0.8.15->mlrun) (22.1.0)\n",
            "Requirement already satisfied: webencodings in /usr/local/lib/python3.7/dist-packages (from bleach->nbconvert>=5.4->nuclio-jupyter~=0.8.15->mlrun) (0.5.1)\n",
            "Requirement already satisfied: packaging in /usr/local/lib/python3.7/dist-packages (from bleach->nbconvert>=5.4->nuclio-jupyter~=0.8.15->mlrun) (20.9)\n",
            "Requirement already satisfied: pyparsing>=2.0.2 in /usr/local/lib/python3.7/dist-packages (from packaging->bleach->nbconvert>=5.4->nuclio-jupyter~=0.8.15->mlrun) (2.4.7)\n",
            "Building wheels for collected packages: tabulate, v3iofs, kfp, future, kfp-server-api, strip-hints\n",
            "  Building wheel for tabulate (setup.py) ... \u001b[?25l\u001b[?25hdone\n",
            "  Created wheel for tabulate: filename=tabulate-0.8.3-cp37-none-any.whl size=23391 sha256=66eb34b62eed9fcd87e51af73a537199da62c1c057688f79c08c31f287c06b5f\n",
            "  Stored in directory: /root/.cache/pip/wheels/2b/67/89/414471314a2d15de625d184d8be6d38a03ae1e983dbda91e84\n",
            "  Building wheel for v3iofs (setup.py) ... \u001b[?25l\u001b[?25hdone\n",
            "  Created wheel for v3iofs: filename=v3iofs-0.1.7-cp37-none-any.whl size=12308 sha256=b9a99412032a4a18291bc464e79cfd96e2ddce02bd77e70405f0b8489bb962d9\n",
            "  Stored in directory: /root/.cache/pip/wheels/83/6e/e3/52b68d140fe2c27b8fac3662e0ec9d8a726b899d7b39a6262b\n",
            "  Building wheel for kfp (setup.py) ... \u001b[?25l\u001b[?25hdone\n",
            "  Created wheel for kfp: filename=kfp-1.0.4-cp37-none-any.whl size=159872 sha256=17e8f541fad613c2e2144b9fa7f4e17c6211e7d7eb1b51a40ae6c037200ecf3a\n",
            "  Stored in directory: /root/.cache/pip/wheels/73/96/b8/984680dbb688dac62a5b4968c569777ee69ea4ce9a447c1e87\n",
            "  Building wheel for future (setup.py) ... \u001b[?25l\u001b[?25hdone\n",
            "  Created wheel for future: filename=future-0.18.2-cp37-none-any.whl size=491070 sha256=302e0dd5d68e418b4d79175510aed1c8cc7de0f46b6a927d4b6aef81aa9aeea9\n",
            "  Stored in directory: /root/.cache/pip/wheels/8b/99/a0/81daf51dcd359a9377b110a8a886b3895921802d2fc1b2397e\n",
            "  Building wheel for kfp-server-api (setup.py) ... \u001b[?25l\u001b[?25hdone\n",
            "  Created wheel for kfp-server-api: filename=kfp_server_api-1.6.0-cp37-none-any.whl size=92524 sha256=7de1b2964cc92e5e1f84f4f57919073796e19de0ac7aaf3a047452b616ffc62f\n",
            "  Stored in directory: /root/.cache/pip/wheels/b1/bd/39/ca712322b001ac20bfac7dbc85d85b8ebba5d22201fe4674d0\n",
            "  Building wheel for strip-hints (setup.py) ... \u001b[?25l\u001b[?25hdone\n",
            "  Created wheel for strip-hints: filename=strip_hints-0.1.9-py2.py3-none-any.whl size=21017 sha256=ecb0e5e480df18d1ae347de03468eb3fc9bb15008f3312082c5c4d9471f8d378\n",
            "  Stored in directory: /root/.cache/pip/wheels/1a/6c/b0/2e38ee5cf60250da7f47962f8ab888672d0956774f79ee624f\n",
            "Successfully built tabulate v3iofs kfp future kfp-server-api strip-hints\n",
            "\u001b[31mERROR: tensorflow 2.5.0 has requirement grpcio~=1.34.0, but you'll have grpcio 1.30.0 which is incompatible.\u001b[0m\n",
            "\u001b[31mERROR: requests 2.23.0 has requirement urllib3!=1.25.0,!=1.25.1,<1.26,>=1.21.1, but you'll have urllib3 1.26.6 which is incompatible.\u001b[0m\n",
            "\u001b[31mERROR: nbclient 0.5.3 has requirement jupyter-client>=6.1.5, but you'll have jupyter-client 5.3.5 which is incompatible.\u001b[0m\n",
            "\u001b[31mERROR: google-colab 1.0.0 has requirement pandas~=1.1.0; python_version >= \"3.0\", but you'll have pandas 1.3.0 which is incompatible.\u001b[0m\n",
            "\u001b[31mERROR: datascience 0.10.6 has requirement folium==0.2.1, but you'll have folium 0.8.3 which is incompatible.\u001b[0m\n",
            "Installing collected packages: pyarrow, pyyaml, cloudpickle, distributed, pydantic, pandas, grpcio, grpcio-tools, fsspec, future, ujson, v3io, v3iofs, async-timeout, multidict, yarl, aiohttp, v3io-frames, storey, mergedeep, smmap, gitdb, GitPython, tabulate, urllib3, websocket-client, kubernetes, cryptography, orjson, humanfriendly, requests-toolbelt, kfp-server-api, jsonschema, Deprecated, strip-hints, kfp, jmespath, botocore, s3transfer, boto3, nuclio-jupyter, starlette, fastapi, Mako, python-editor, alembic, mlrun\n",
            "  Found existing installation: pyarrow 3.0.0\n",
            "    Uninstalling pyarrow-3.0.0:\n",
            "      Successfully uninstalled pyarrow-3.0.0\n",
            "  Found existing installation: PyYAML 3.13\n",
            "    Uninstalling PyYAML-3.13:\n",
            "      Successfully uninstalled PyYAML-3.13\n",
            "  Found existing installation: cloudpickle 1.3.0\n",
            "    Uninstalling cloudpickle-1.3.0:\n",
            "      Successfully uninstalled cloudpickle-1.3.0\n",
            "  Found existing installation: distributed 1.25.3\n",
            "    Uninstalling distributed-1.25.3:\n",
            "      Successfully uninstalled distributed-1.25.3\n",
            "  Found existing installation: pandas 1.1.5\n",
            "    Uninstalling pandas-1.1.5:\n",
            "      Successfully uninstalled pandas-1.1.5\n",
            "  Found existing installation: grpcio 1.34.1\n",
            "    Uninstalling grpcio-1.34.1:\n",
            "      Successfully uninstalled grpcio-1.34.1\n",
            "  Found existing installation: future 0.16.0\n",
            "    Uninstalling future-0.16.0:\n",
            "      Successfully uninstalled future-0.16.0\n",
            "  Found existing installation: tabulate 0.8.9\n",
            "    Uninstalling tabulate-0.8.9:\n",
            "      Successfully uninstalled tabulate-0.8.9\n",
            "  Found existing installation: urllib3 1.24.3\n",
            "    Uninstalling urllib3-1.24.3:\n",
            "      Successfully uninstalled urllib3-1.24.3\n",
            "  Found existing installation: jsonschema 2.6.0\n",
            "    Uninstalling jsonschema-2.6.0:\n",
            "      Successfully uninstalled jsonschema-2.6.0\n",
            "Successfully installed Deprecated-1.2.12 GitPython-3.1.18 Mako-1.1.4 aiohttp-3.7.4.post0 alembic-1.5.8 async-timeout-3.0.1 boto3-1.17.105 botocore-1.20.105 cloudpickle-1.6.0 cryptography-3.3.2 distributed-2.30.1 fastapi-0.62.0 fsspec-0.9.0 future-0.18.2 gitdb-4.0.7 grpcio-1.30.0 grpcio-tools-1.30.0 humanfriendly-8.2 jmespath-0.10.0 jsonschema-3.2.0 kfp-1.0.4 kfp-server-api-1.6.0 kubernetes-11.0.0 mergedeep-1.3.4 mlrun-0.6.4 multidict-5.1.0 nuclio-jupyter-0.8.15 orjson-3.3.1 pandas-1.3.0 pyarrow-1.0.1 pydantic-1.8.2 python-editor-1.0.4 pyyaml-5.4.1 requests-toolbelt-0.9.1 s3transfer-0.4.2 smmap-4.0.0 starlette-0.13.6 storey-0.5.4 strip-hints-0.1.9 tabulate-0.8.3 ujson-4.0.2 urllib3-1.26.6 v3io-0.5.8 v3io-frames-0.8.14 v3iofs-0.1.7 websocket-client-1.1.0 yarl-1.6.3\n"
          ],
          "name": "stdout"
        },
        {
          "output_type": "display_data",
          "data": {
            "application/vnd.colab-display-data+json": {
              "pip_warning": {
                "packages": [
                  "pandas"
                ]
              }
            }
          },
          "metadata": {
            "tags": []
          }
        }
      ]
    },
    {
      "cell_type": "code",
      "metadata": {
        "id": "iqhC5j7vBgBz",
        "colab": {
          "base_uri": "https://localhost:8080/"
        },
        "outputId": "e2627ca3-24ef-48f6-ff7e-b412a318cd33"
      },
      "source": [
        "from google.colab import drive\n",
        "drive.mount('/content/drive')"
      ],
      "execution_count": null,
      "outputs": [
        {
          "output_type": "stream",
          "text": [
            "Mounted at /content/drive\n"
          ],
          "name": "stdout"
        }
      ]
    },
    {
      "cell_type": "code",
      "metadata": {
        "id": "4doDIowfDhaR"
      },
      "source": [
        "from mlrun import mlconf\n",
        "\n",
        "mlconf.dbpath = '/content/drive/MyDrive/Hackathon'\n",
        "mlconf.artifact_path = '/content/drive/MyDrive/Hackathon/Data'"
      ],
      "execution_count": null,
      "outputs": []
    },
    {
      "cell_type": "code",
      "metadata": {
        "colab": {
          "base_uri": "https://localhost:8080/"
        },
        "id": "X3UogbjAE4qT",
        "outputId": "de06d697-2aea-4ab3-b359-fe2387867c7d"
      },
      "source": [
        "from os import path\n",
        "import mlrun\n",
        "\n",
        "project_name_base = 'suicide-pred'\n",
        "\n",
        "project_name, artifact_path = mlrun.set_environment(project=project_name_base, user_project=True)\n",
        "\n",
        "print(f'Project name: {project_name}')\n",
        "print(f'Artifact path: {artifact_path}')"
      ],
      "execution_count": null,
      "outputs": [
        {
          "output_type": "stream",
          "text": [
            "Project name: suicide-pred-root\n",
            "Artifact path: /content/drive/MyDrive/Hackathon/Data\n"
          ],
          "name": "stdout"
        }
      ]
    },
    {
      "cell_type": "markdown",
      "metadata": {
        "id": "ksipPSnQGUWg"
      },
      "source": [
        "<h2>MLRun Functions"
      ]
    },
    {
      "cell_type": "code",
      "metadata": {
        "id": "PSsaCcbhj1-J"
      },
      "source": [
        "# nuclio: start-code"
      ],
      "execution_count": null,
      "outputs": []
    },
    {
      "cell_type": "code",
      "metadata": {
        "colab": {
          "base_uri": "https://localhost:8080/"
        },
        "id": "xLLs2d_yAb9k",
        "outputId": "a5aef391-f0d0-457b-cb7c-2890d5646142"
      },
      "source": [
        "!pip install pymongo[srv]\n",
        "\n",
        "import pickle\n",
        "from pickle import dumps\n",
        "import re\n",
        "import numpy as np\n",
        "import pandas as pd\n",
        "from tqdm import tqdm\n",
        "import nltk\n",
        "from os import path\n",
        "import os\n",
        "import mlrun\n",
        "\n",
        "from mlrun.execution import MLClientCtx\n",
        "from mlrun.datastore import DataItem\n",
        "\n",
        "# nltk.download()\n",
        "nltk.download('stopwords')"
      ],
      "execution_count": null,
      "outputs": [
        {
          "output_type": "stream",
          "text": [
            "Requirement already satisfied: pymongo[srv] in /usr/local/lib/python3.7/dist-packages (3.11.4)\n",
            "Requirement already satisfied: dnspython<2.0.0,>=1.16.0; extra == \"srv\" in /usr/local/lib/python3.7/dist-packages (from pymongo[srv]) (1.16.0)\n",
            "[nltk_data] Downloading package stopwords to /root/nltk_data...\n",
            "[nltk_data]   Package stopwords is already up-to-date!\n"
          ],
          "name": "stdout"
        },
        {
          "output_type": "execute_result",
          "data": {
            "text/plain": [
              "True"
            ]
          },
          "metadata": {
            "tags": []
          },
          "execution_count": 45
        }
      ]
    },
    {
      "cell_type": "code",
      "metadata": {
        "id": "y7bBwHuL6vz8"
      },
      "source": [
        ""
      ],
      "execution_count": null,
      "outputs": []
    },
    {
      "cell_type": "code",
      "metadata": {
        "id": "Jr2NvF10eF6e"
      },
      "source": [
        "from pymongo import MongoClient\n",
        "import urllib\n",
        "import sys\n",
        "import pandas as pd\n",
        "import pymongo\n",
        "import json\n",
        "import os\n",
        "\n",
        "def read_content():\n",
        "    m_client = pymongo.MongoClient(\"mongodb+srv://harsh:<password>@cluster0.hh8w7.mongodb.net/<dbname>?retryWrites=true&w=majority\")\n",
        "    db = m_client.test\n",
        "\n",
        "\n",
        "    #m_client = pymongo.MongoClient(\"mongodb://...\")\n",
        "    m_db = m_client[\"suicide\"]\n",
        "    db_cm = m_db[\"suicide\"]\n",
        "    df = pd.DataFrame.from_records(db_cm.find())\n",
        "    print('--------------------------------')\n",
        "    print()\n",
        "    print(df)\n",
        "    return df"
      ],
      "execution_count": null,
      "outputs": []
    },
    {
      "cell_type": "code",
      "metadata": {
        "colab": {
          "base_uri": "https://localhost:8080/"
        },
        "id": "6ndQEW5ZgI0q",
        "outputId": "3c858595-d4f4-498c-e1eb-3c5e4bf02ab6"
      },
      "source": [
        "df=read_content()"
      ],
      "execution_count": null,
      "outputs": [
        {
          "output_type": "stream",
          "text": [
            "--------------------------------\n",
            "\n",
            "                           _id  ...                                              tweet\n",
            "0     60e08fddeee7fb8ea50f3d85  ...  my life is meaningless i just want to end my l...\n",
            "1     60e08fdfeee7fb8ea50f3d86  ...  muttering i wanna die to myself daily for a fe...\n",
            "2     60e08fdfeee7fb8ea50f3d87  ...  work slave i really feel like my only purpose ...\n",
            "3     60e08fe0eee7fb8ea50f3d88  ...  i did something on the 2 of october i overdose...\n",
            "4     60e08fe0eee7fb8ea50f3d89  ...  i feel like no one cares i just want to die ma...\n",
            "...                        ...  ...                                                ...\n",
            "9114  60e09986eee7fb8ea50f611f  ...  have you ever laid on your bed at night and cr...\n",
            "9115  60e09987eee7fb8ea50f6120  ...  the fault the blame the pain s still there i m...\n",
            "9116  60e09987eee7fb8ea50f6121  ...  stop asking me to trust you when i m still cou...\n",
            "9117  60e09987eee7fb8ea50f6122  ...  i never know how to handle sadness crying make...\n",
            "9118  60e09988eee7fb8ea50f6123  ...  when cancer takes a life we blame cancer depre...\n",
            "\n",
            "[9119 rows x 3 columns]\n"
          ],
          "name": "stdout"
        }
      ]
    },
    {
      "cell_type": "code",
      "metadata": {
        "id": "yEG8KZRkyo3G"
      },
      "source": [
        "df=df[['label','tweet']]"
      ],
      "execution_count": null,
      "outputs": []
    },
    {
      "cell_type": "code",
      "metadata": {
        "colab": {
          "base_uri": "https://localhost:8080/",
          "height": 419
        },
        "id": "axS-p6E3y9VP",
        "outputId": "a545a464-7098-44e3-b1a2-65b93221acf4"
      },
      "source": [
        "df"
      ],
      "execution_count": null,
      "outputs": [
        {
          "output_type": "execute_result",
          "data": {
            "text/html": [
              "<div>\n",
              "<style scoped>\n",
              "    .dataframe tbody tr th:only-of-type {\n",
              "        vertical-align: middle;\n",
              "    }\n",
              "\n",
              "    .dataframe tbody tr th {\n",
              "        vertical-align: top;\n",
              "    }\n",
              "\n",
              "    .dataframe thead th {\n",
              "        text-align: right;\n",
              "    }\n",
              "</style>\n",
              "<table border=\"1\" class=\"dataframe\">\n",
              "  <thead>\n",
              "    <tr style=\"text-align: right;\">\n",
              "      <th></th>\n",
              "      <th>label</th>\n",
              "      <th>tweet</th>\n",
              "    </tr>\n",
              "  </thead>\n",
              "  <tbody>\n",
              "    <tr>\n",
              "      <th>0</th>\n",
              "      <td>1</td>\n",
              "      <td>my life is meaningless i just want to end my l...</td>\n",
              "    </tr>\n",
              "    <tr>\n",
              "      <th>1</th>\n",
              "      <td>1</td>\n",
              "      <td>muttering i wanna die to myself daily for a fe...</td>\n",
              "    </tr>\n",
              "    <tr>\n",
              "      <th>2</th>\n",
              "      <td>1</td>\n",
              "      <td>work slave i really feel like my only purpose ...</td>\n",
              "    </tr>\n",
              "    <tr>\n",
              "      <th>3</th>\n",
              "      <td>1</td>\n",
              "      <td>i did something on the 2 of october i overdose...</td>\n",
              "    </tr>\n",
              "    <tr>\n",
              "      <th>4</th>\n",
              "      <td>1</td>\n",
              "      <td>i feel like no one cares i just want to die ma...</td>\n",
              "    </tr>\n",
              "    <tr>\n",
              "      <th>...</th>\n",
              "      <td>...</td>\n",
              "      <td>...</td>\n",
              "    </tr>\n",
              "    <tr>\n",
              "      <th>9114</th>\n",
              "      <td>1</td>\n",
              "      <td>have you ever laid on your bed at night and cr...</td>\n",
              "    </tr>\n",
              "    <tr>\n",
              "      <th>9115</th>\n",
              "      <td>1</td>\n",
              "      <td>the fault the blame the pain s still there i m...</td>\n",
              "    </tr>\n",
              "    <tr>\n",
              "      <th>9116</th>\n",
              "      <td>1</td>\n",
              "      <td>stop asking me to trust you when i m still cou...</td>\n",
              "    </tr>\n",
              "    <tr>\n",
              "      <th>9117</th>\n",
              "      <td>1</td>\n",
              "      <td>i never know how to handle sadness crying make...</td>\n",
              "    </tr>\n",
              "    <tr>\n",
              "      <th>9118</th>\n",
              "      <td>1</td>\n",
              "      <td>when cancer takes a life we blame cancer depre...</td>\n",
              "    </tr>\n",
              "  </tbody>\n",
              "</table>\n",
              "<p>9119 rows × 2 columns</p>\n",
              "</div>"
            ],
            "text/plain": [
              "      label                                              tweet\n",
              "0         1  my life is meaningless i just want to end my l...\n",
              "1         1  muttering i wanna die to myself daily for a fe...\n",
              "2         1  work slave i really feel like my only purpose ...\n",
              "3         1  i did something on the 2 of october i overdose...\n",
              "4         1  i feel like no one cares i just want to die ma...\n",
              "...     ...                                                ...\n",
              "9114      1  have you ever laid on your bed at night and cr...\n",
              "9115      1  the fault the blame the pain s still there i m...\n",
              "9116      1  stop asking me to trust you when i m still cou...\n",
              "9117      1  i never know how to handle sadness crying make...\n",
              "9118      1  when cancer takes a life we blame cancer depre...\n",
              "\n",
              "[9119 rows x 2 columns]"
            ]
          },
          "metadata": {
            "tags": []
          },
          "execution_count": 49
        }
      ]
    },
    {
      "cell_type": "code",
      "metadata": {
        "id": "eTQp8HLdz8gw"
      },
      "source": [
        "df.to_csv('/content/drive/MyDrive/Hackathon/suicidal_data1.csv')"
      ],
      "execution_count": null,
      "outputs": []
    },
    {
      "cell_type": "code",
      "metadata": {
        "id": "z44z2ymkGS4Y"
      },
      "source": [
        "def fetch_data(context : MLClientCtx, data_path: DataItem):\n",
        "    \n",
        "    context.logger.info('Reading data from {}'.format(data_path))\n",
        "\n",
        "    suicide_dataset = df\n",
        "    \n",
        "    \n",
        "    target_path = path.join(context.artifact_path, 'data')\n",
        "    context.logger.info('Saving datasets to {} ...'.format(target_path))\n",
        "\n",
        "    # Store the data sets in your artifacts database\n",
        "    context.log_dataset('suicide_dataset', df=suicide_dataset, format='csv',\n",
        "                        index=False, artifact_path=target_path)\n",
        "    "
      ],
      "execution_count": null,
      "outputs": []
    },
    {
      "cell_type": "code",
      "metadata": {
        "id": "51qsA594Ab9m"
      },
      "source": [
        "def preprocess_tweet(text):\n",
        "    text = re.sub('<[^>]*>', '', text)\n",
        "    emoticons = re.findall('(?::|;|=)(?:-)?(?:\\)|\\(|D|P)', text)\n",
        "    text = re.sub('[\\W]+', ' ', text.lower())\n",
        "    text = text+' '.join(emoticons).replace('-', '') \n",
        "    return text"
      ],
      "execution_count": null,
      "outputs": []
    },
    {
      "cell_type": "code",
      "metadata": {
        "id": "D8F-9eWnAb9o"
      },
      "source": [
        "from nltk.stem.porter import PorterStemmer\n",
        "porter = PorterStemmer()\n",
        "def tokenizer_porter(text):\n",
        "    return [porter.stem(word) for word in text.split()]\n",
        "\n",
        "from nltk.corpus import stopwords\n",
        "stop = stopwords.words('english')"
      ],
      "execution_count": null,
      "outputs": []
    },
    {
      "cell_type": "code",
      "metadata": {
        "id": "_RL3hEocAb9p"
      },
      "source": [
        "def tokenizer(text):\n",
        "    text = re.sub('<[^>]*>', '', text)\n",
        "    emoticons = re.findall('(?::|;|=)(?:-)?(?:\\(|D|P)',text.lower())\n",
        "    text = re.sub('[\\W]+', ' ', text.lower())\n",
        "    text += ' '.join(emoticons).replace('-', '')\n",
        "    tokenized = [w for w in tokenizer_porter(text) if w not in stop]\n",
        "    return tokenized"
      ],
      "execution_count": null,
      "outputs": []
    },
    {
      "cell_type": "code",
      "metadata": {
        "id": "7VrEI0iQAb9q"
      },
      "source": [
        "from sklearn.feature_extraction.text import HashingVectorizer\n",
        "vect = HashingVectorizer(decode_error='ignore', n_features=2**21, \n",
        "                         preprocessor=None,tokenizer=tokenizer)"
      ],
      "execution_count": null,
      "outputs": []
    },
    {
      "cell_type": "code",
      "metadata": {
        "id": "kIb5wqWtNX_8"
      },
      "source": [
        "def transform_dataset(context : MLClientCtx, data: DataItem):\n",
        "\n",
        "  context.logger.info('Begin datasets transform')\n",
        "\n",
        "  df = data.as_df()\n",
        "  df['tweet'] = df['tweet'].apply(lambda x: preprocess_tweet(x))\n",
        "  # print(len(df[\"tweet\"].to_list()))\n",
        "  # k = list(vect.transform(df[\"tweet\"].values))\n",
        "  # print(len(k))\n",
        "  # df['tweet'] = list(vect.transform(df[\"tweet\"].values))\n",
        "\n",
        "  target_path = path.join(context.artifact_path, 'data')\n",
        "  context.log_dataset('suicide_dataset_transformed', df=df, artifact_path=target_path, format='csv')    \n"
      ],
      "execution_count": null,
      "outputs": []
    },
    {
      "cell_type": "code",
      "metadata": {
        "id": "_oFnlLrNPIkN"
      },
      "source": [
        "def train_model(context: MLClientCtx, input_ds: DataItem):\n",
        "\n",
        "\n",
        "  context.logger.info('Begin training')\n",
        "  from sklearn.linear_model import SGDClassifier\n",
        "  clf = SGDClassifier(loss='log', random_state=1)\n",
        "\n",
        "  df = input_ds.as_df()\n",
        "  X = df[\"tweet\"].to_list()\n",
        "  y = df['label']\n",
        "\n",
        "  from sklearn.model_selection import train_test_split\n",
        "  X_train,X_test,y_train,y_test = train_test_split(X,\n",
        "                                                  y,\n",
        "                                                  test_size=0.20,\n",
        "                                                  random_state=0)  \n",
        "  X_train = vect.transform(X_train)\n",
        "  X_test = vect.transform(X_test)\n",
        "\n",
        "  classes = np.array([0, 1])\n",
        "  clf.partial_fit(X_train, y_train,classes=classes)\n",
        "\n",
        "  print('Accuracy: %.3f' % clf.score(X_test, y_test))\n",
        "\n",
        "  context.log_model('Suicide_Model',\n",
        "                     body=dumps(clf),\n",
        "                     artifact_path=context.artifact_subpath(\"models\"),\n",
        "                     model_file=\"Suicide_Model.pkl\")\n",
        "  \n",
        "\n",
        "  context.logger.info('End training')"
      ],
      "execution_count": null,
      "outputs": []
    },
    {
      "cell_type": "code",
      "metadata": {
        "id": "1uVHtgF1uuR0"
      },
      "source": [
        "import numpy as np\n",
        "from cloudpickle import load\n",
        "\n",
        "class SuicideModel(mlrun.serving.V2ModelServer):\n",
        "    \n",
        "    def load(self):\n",
        "        model_file, extra_data = self.get_model('.pkl')\n",
        "        self.model = load(open(model_file, 'rb'))\n",
        "\n",
        "    def predict(self, body):\n",
        "        try:\n",
        "            feats = body['inputs'][0]\n",
        "            # feats = feats.decode('ISO-8859-1')\n",
        "            feats = preprocess_tweet(feats)\n",
        "            l = []\n",
        "            l.append(feats)\n",
        "            feats = vect.transform(l)\n",
        "            print('hi')\n",
        "            result = self.model.predict(feats)\n",
        "            return result.tolist()\n",
        "        except Exception as e:\n",
        "            raise Exception(\"Failed to predict %s\" % e)"
      ],
      "execution_count": null,
      "outputs": []
    },
    {
      "cell_type": "code",
      "metadata": {
        "id": "7HUxIoxRkFY9"
      },
      "source": [
        "# nuclio: end-code"
      ],
      "execution_count": null,
      "outputs": []
    },
    {
      "cell_type": "markdown",
      "metadata": {
        "id": "WhZlqNCUOvuN"
      },
      "source": [
        "<h2>MLRun Procedure "
      ]
    },
    {
      "cell_type": "code",
      "metadata": {
        "id": "B30Eu6WRQ3Gp"
      },
      "source": [
        "suicide_func = mlrun.code_to_function(name='suicide', kind='job', filename = '/content/drive/MyDrive/Colab Notebooks/code_MLRun.ipynb')"
      ],
      "execution_count": null,
      "outputs": []
    },
    {
      "cell_type": "markdown",
      "metadata": {
        "id": "dWArHu164zg7"
      },
      "source": [
        "<h3> Fetch"
      ]
    },
    {
      "cell_type": "code",
      "metadata": {
        "colab": {
          "base_uri": "https://localhost:8080/",
          "height": 525
        },
        "id": "u1bFgkocgO25",
        "outputId": "821a5811-aa97-4090-d434-281270bc9ac5"
      },
      "source": [
        "fetch_data_run = suicide_func.run(handler='fetch_data',\n",
        "                               inputs={'data_path': '/content/drive/MyDrive/Hackathon/suicidal_data1.csv'},\n",
        "                               local=True)"
      ],
      "execution_count": null,
      "outputs": [
        {
          "output_type": "stream",
          "text": [
            "> 2021-07-04 05:24:50,048 [info] starting run suicide-fetch_data uid=f12b1ff1fedd47a688ccc8d829aad4c0 DB=/content/drive/MyDrive/Hackathon\n",
            "[nltk_data] Downloading package stopwords to /root/nltk_data...\n",
            "[nltk_data]   Package stopwords is already up-to-date!\n",
            "--------------------------------\n",
            "\n",
            "                           _id  ...                                              tweet\n",
            "0     60e08fddeee7fb8ea50f3d85  ...  my life is meaningless i just want to end my l...\n",
            "1     60e08fdfeee7fb8ea50f3d86  ...  muttering i wanna die to myself daily for a fe...\n",
            "2     60e08fdfeee7fb8ea50f3d87  ...  work slave i really feel like my only purpose ...\n",
            "3     60e08fe0eee7fb8ea50f3d88  ...  i did something on the 2 of october i overdose...\n",
            "4     60e08fe0eee7fb8ea50f3d89  ...  i feel like no one cares i just want to die ma...\n",
            "...                        ...  ...                                                ...\n",
            "9114  60e09986eee7fb8ea50f611f  ...  have you ever laid on your bed at night and cr...\n",
            "9115  60e09987eee7fb8ea50f6120  ...  the fault the blame the pain s still there i m...\n",
            "9116  60e09987eee7fb8ea50f6121  ...  stop asking me to trust you when i m still cou...\n",
            "9117  60e09987eee7fb8ea50f6122  ...  i never know how to handle sadness crying make...\n",
            "9118  60e09988eee7fb8ea50f6123  ...  when cancer takes a life we blame cancer depre...\n",
            "\n",
            "[9119 rows x 3 columns]\n",
            "> 2021-07-04 05:24:51,352 [info] Reading data from /content/drive/MyDrive/Hackathon/suicidal_data1.csv\n",
            "> 2021-07-04 05:24:51,359 [info] Saving datasets to /content/drive/MyDrive/Hackathon/Data/data ...\n"
          ],
          "name": "stdout"
        },
        {
          "output_type": "display_data",
          "data": {
            "text/html": [
              "<style>\n",
              ".dictlist {\n",
              "  background-color: #4EC64B;\n",
              "  text-align: center;\n",
              "  margin: 4px;\n",
              "  border-radius: 3px; padding: 0px 3px 1px 3px; display: inline-block;}\n",
              ".artifact {\n",
              "  cursor: pointer;\n",
              "  background-color: #4EC64B;\n",
              "  text-align: left;\n",
              "  margin: 4px; border-radius: 3px; padding: 0px 3px 1px 3px; display: inline-block;\n",
              "}\n",
              "div.block.hidden {\n",
              "  display: none;\n",
              "}\n",
              ".clickable {\n",
              "  cursor: pointer;\n",
              "}\n",
              ".ellipsis {\n",
              "  display: inline-block;\n",
              "  max-width: 60px;\n",
              "  white-space: nowrap;\n",
              "  overflow: hidden;\n",
              "  text-overflow: ellipsis;\n",
              "}\n",
              ".master-wrapper {\n",
              "  display: flex;\n",
              "  flex-flow: row nowrap;\n",
              "  justify-content: flex-start;\n",
              "  align-items: stretch;\n",
              "}\n",
              ".master-tbl {\n",
              "  flex: 3\n",
              "}\n",
              ".master-wrapper > div {\n",
              "  margin: 4px;\n",
              "  padding: 10px;\n",
              "}\n",
              "iframe.fileview {\n",
              "  border: 0 none;\n",
              "  height: 100%;\n",
              "  width: 100%;\n",
              "  white-space: pre-wrap;\n",
              "}\n",
              ".pane-header-title {\n",
              "  width: 80%;\n",
              "  font-weight: 500;\n",
              "}\n",
              ".pane-header {\n",
              "  line-height: 1;\n",
              "  background-color: #4EC64B;\n",
              "  padding: 3px;\n",
              "}\n",
              ".pane-header .close {\n",
              "  font-size: 20px;\n",
              "  font-weight: 700;\n",
              "  float: right;\n",
              "  margin-top: -5px;\n",
              "}\n",
              ".master-wrapper .right-pane {\n",
              "  border: 1px inset silver;\n",
              "  width: 40%;\n",
              "  min-height: 300px;\n",
              "  flex: 3\n",
              "  min-width: 500px;\n",
              "}\n",
              ".master-wrapper * {\n",
              "  box-sizing: border-box;\n",
              "}\n",
              "</style><script>\n",
              "function copyToClipboard(fld) {\n",
              "    if (document.queryCommandSupported && document.queryCommandSupported('copy')) {\n",
              "        var textarea = document.createElement('textarea');\n",
              "        textarea.textContent = fld.innerHTML;\n",
              "        textarea.style.position = 'fixed';\n",
              "        document.body.appendChild(textarea);\n",
              "        textarea.select();\n",
              "\n",
              "        try {\n",
              "            return document.execCommand('copy'); // Security exception may be thrown by some browsers.\n",
              "        } catch (ex) {\n",
              "\n",
              "        } finally {\n",
              "            document.body.removeChild(textarea);\n",
              "        }\n",
              "    }\n",
              "}\n",
              "function expandPanel(el) {\n",
              "  const panelName = \"#\" + el.getAttribute('paneName');\n",
              "  console.log(el.title);\n",
              "\n",
              "  document.querySelector(panelName + \"-title\").innerHTML = el.title\n",
              "  iframe = document.querySelector(panelName + \"-body\");\n",
              "\n",
              "  const tblcss = `<style> body { font-family: Arial, Helvetica, sans-serif;}\n",
              "    #csv { margin-bottom: 15px; }\n",
              "    #csv table { border-collapse: collapse;}\n",
              "    #csv table td { padding: 4px 8px; border: 1px solid silver;} </style>`;\n",
              "\n",
              "  function csvToHtmlTable(str) {\n",
              "    return '<div id=\"csv\"><table><tr><td>' +  str.replace(/[\\n\\r]+$/g, '').replace(/[\\n\\r]+/g, '</td></tr><tr><td>')\n",
              "      .replace(/,/g, '</td><td>') + '</td></tr></table></div>';\n",
              "  }\n",
              "\n",
              "  function reqListener () {\n",
              "    if (el.title.endsWith(\".csv\")) {\n",
              "      iframe.setAttribute(\"srcdoc\", tblcss + csvToHtmlTable(this.responseText));\n",
              "    } else {\n",
              "      iframe.setAttribute(\"srcdoc\", this.responseText);\n",
              "    }\n",
              "    console.log(this.responseText);\n",
              "  }\n",
              "\n",
              "  const oReq = new XMLHttpRequest();\n",
              "  oReq.addEventListener(\"load\", reqListener);\n",
              "  oReq.open(\"GET\", el.title);\n",
              "  oReq.send();\n",
              "\n",
              "\n",
              "  //iframe.src = el.title;\n",
              "  const resultPane = document.querySelector(panelName + \"-pane\");\n",
              "  if (resultPane.classList.contains(\"hidden\")) {\n",
              "    resultPane.classList.remove(\"hidden\");\n",
              "  }\n",
              "}\n",
              "function closePanel(el) {\n",
              "  const panelName = \"#\" + el.getAttribute('paneName')\n",
              "  const resultPane = document.querySelector(panelName + \"-pane\");\n",
              "  if (!resultPane.classList.contains(\"hidden\")) {\n",
              "    resultPane.classList.add(\"hidden\");\n",
              "  }\n",
              "}\n",
              "\n",
              "</script>\n",
              "<div class=\"master-wrapper\">\n",
              "  <div class=\"block master-tbl\"><div>\n",
              "<style scoped>\n",
              "    .dataframe tbody tr th:only-of-type {\n",
              "        vertical-align: middle;\n",
              "    }\n",
              "\n",
              "    .dataframe tbody tr th {\n",
              "        vertical-align: top;\n",
              "    }\n",
              "\n",
              "    .dataframe thead th {\n",
              "        text-align: right;\n",
              "    }\n",
              "</style>\n",
              "<table border=\"1\" class=\"dataframe\">\n",
              "  <thead>\n",
              "    <tr style=\"text-align: right;\">\n",
              "      <th>project</th>\n",
              "      <th>uid</th>\n",
              "      <th>iter</th>\n",
              "      <th>start</th>\n",
              "      <th>state</th>\n",
              "      <th>name</th>\n",
              "      <th>labels</th>\n",
              "      <th>inputs</th>\n",
              "      <th>parameters</th>\n",
              "      <th>results</th>\n",
              "      <th>artifacts</th>\n",
              "    </tr>\n",
              "  </thead>\n",
              "  <tbody>\n",
              "    <tr>\n",
              "      <td>suicide-pred-root</td>\n",
              "      <td><div title=\"f12b1ff1fedd47a688ccc8d829aad4c0\">...aad4c0</div></td>\n",
              "      <td>0</td>\n",
              "      <td>Jul 04 05:24:51</td>\n",
              "      <td>completed</td>\n",
              "      <td>suicide-fetch_data</td>\n",
              "      <td><div class=\"dictlist\">kind=</div><div class=\"dictlist\">owner=root</div><div class=\"dictlist\">host=ed438d8ab165</div></td>\n",
              "      <td><div title=\"/content/drive/MyDrive/Hackathon/suicidal_data1.csv\">data_path</div></td>\n",
              "      <td></td>\n",
              "      <td></td>\n",
              "      <td><div title=\"/content/drive/MyDrive/Hackathon/Data/data/suicide_dataset.csv\">suicide_dataset</div></td>\n",
              "    </tr>\n",
              "  </tbody>\n",
              "</table>\n",
              "</div></div>\n",
              "  <div id=\"resultd70e726f-pane\" class=\"right-pane block hidden\">\n",
              "    <div class=\"pane-header\">\n",
              "      <span id=\"resultd70e726f-title\" class=\"pane-header-title\">Title</span>\n",
              "      <span onclick=\"closePanel(this)\" paneName=\"resultd70e726f\" class=\"close clickable\">&times;</span>\n",
              "    </div>\n",
              "    <iframe class=\"fileview\" id=\"resultd70e726f-body\"></iframe>\n",
              "  </div>\n",
              "</div>\n"
            ],
            "text/plain": [
              "<IPython.core.display.HTML object>"
            ]
          },
          "metadata": {
            "tags": []
          }
        },
        {
          "output_type": "stream",
          "text": [
            "to track results use .show() or .logs() or in CLI: \n",
            "!mlrun get run f12b1ff1fedd47a688ccc8d829aad4c0 --project suicide-pred-root , !mlrun logs f12b1ff1fedd47a688ccc8d829aad4c0 --project suicide-pred-root\n",
            "> 2021-07-04 05:24:52,829 [info] run executed, status=completed\n"
          ],
          "name": "stdout"
        }
      ]
    },
    {
      "cell_type": "code",
      "metadata": {
        "colab": {
          "base_uri": "https://localhost:8080/"
        },
        "id": "q6-4wXNxiXor",
        "outputId": "78507194-ee46-4fc9-8275-dfca56319dc3"
      },
      "source": [
        "fetch_data_run.outputs"
      ],
      "execution_count": null,
      "outputs": [
        {
          "output_type": "execute_result",
          "data": {
            "text/plain": [
              "{'suicide_dataset': 'store://artifacts/suicide-pred-root/suicide-fetch_data_suicide_dataset:f12b1ff1fedd47a688ccc8d829aad4c0'}"
            ]
          },
          "metadata": {
            "tags": []
          },
          "execution_count": 62
        }
      ]
    },
    {
      "cell_type": "markdown",
      "metadata": {
        "id": "FjneTDoy4vvi"
      },
      "source": [
        "<h3> Transform"
      ]
    },
    {
      "cell_type": "code",
      "metadata": {
        "colab": {
          "base_uri": "https://localhost:8080/",
          "height": 508
        },
        "id": "gSJHfOlvpeup",
        "outputId": "38fda015-f437-4b0d-947f-646c0c9736f6"
      },
      "source": [
        "transform_dataset_run = suicide_func.run(name='transform_dataset',\n",
        "                                      handler='transform_dataset',\n",
        "                                      inputs={'data': fetch_data_run.outputs['suicide_dataset']},\n",
        "                                      local=True)"
      ],
      "execution_count": null,
      "outputs": [
        {
          "output_type": "stream",
          "text": [
            "> 2021-07-04 05:24:56,386 [info] starting run transform_dataset uid=1d9744cc85b546e5bc01940d76f06752 DB=/content/drive/MyDrive/Hackathon\n",
            "[nltk_data] Downloading package stopwords to /root/nltk_data...\n",
            "[nltk_data]   Package stopwords is already up-to-date!\n",
            "--------------------------------\n",
            "\n",
            "                           _id  ...                                              tweet\n",
            "0     60e08fddeee7fb8ea50f3d85  ...  my life is meaningless i just want to end my l...\n",
            "1     60e08fdfeee7fb8ea50f3d86  ...  muttering i wanna die to myself daily for a fe...\n",
            "2     60e08fdfeee7fb8ea50f3d87  ...  work slave i really feel like my only purpose ...\n",
            "3     60e08fe0eee7fb8ea50f3d88  ...  i did something on the 2 of october i overdose...\n",
            "4     60e08fe0eee7fb8ea50f3d89  ...  i feel like no one cares i just want to die ma...\n",
            "...                        ...  ...                                                ...\n",
            "9114  60e09986eee7fb8ea50f611f  ...  have you ever laid on your bed at night and cr...\n",
            "9115  60e09987eee7fb8ea50f6120  ...  the fault the blame the pain s still there i m...\n",
            "9116  60e09987eee7fb8ea50f6121  ...  stop asking me to trust you when i m still cou...\n",
            "9117  60e09987eee7fb8ea50f6122  ...  i never know how to handle sadness crying make...\n",
            "9118  60e09988eee7fb8ea50f6123  ...  when cancer takes a life we blame cancer depre...\n",
            "\n",
            "[9119 rows x 3 columns]\n",
            "> 2021-07-04 05:24:57,813 [info] Begin datasets transform\n"
          ],
          "name": "stdout"
        },
        {
          "output_type": "display_data",
          "data": {
            "text/html": [
              "<style>\n",
              ".dictlist {\n",
              "  background-color: #4EC64B;\n",
              "  text-align: center;\n",
              "  margin: 4px;\n",
              "  border-radius: 3px; padding: 0px 3px 1px 3px; display: inline-block;}\n",
              ".artifact {\n",
              "  cursor: pointer;\n",
              "  background-color: #4EC64B;\n",
              "  text-align: left;\n",
              "  margin: 4px; border-radius: 3px; padding: 0px 3px 1px 3px; display: inline-block;\n",
              "}\n",
              "div.block.hidden {\n",
              "  display: none;\n",
              "}\n",
              ".clickable {\n",
              "  cursor: pointer;\n",
              "}\n",
              ".ellipsis {\n",
              "  display: inline-block;\n",
              "  max-width: 60px;\n",
              "  white-space: nowrap;\n",
              "  overflow: hidden;\n",
              "  text-overflow: ellipsis;\n",
              "}\n",
              ".master-wrapper {\n",
              "  display: flex;\n",
              "  flex-flow: row nowrap;\n",
              "  justify-content: flex-start;\n",
              "  align-items: stretch;\n",
              "}\n",
              ".master-tbl {\n",
              "  flex: 3\n",
              "}\n",
              ".master-wrapper > div {\n",
              "  margin: 4px;\n",
              "  padding: 10px;\n",
              "}\n",
              "iframe.fileview {\n",
              "  border: 0 none;\n",
              "  height: 100%;\n",
              "  width: 100%;\n",
              "  white-space: pre-wrap;\n",
              "}\n",
              ".pane-header-title {\n",
              "  width: 80%;\n",
              "  font-weight: 500;\n",
              "}\n",
              ".pane-header {\n",
              "  line-height: 1;\n",
              "  background-color: #4EC64B;\n",
              "  padding: 3px;\n",
              "}\n",
              ".pane-header .close {\n",
              "  font-size: 20px;\n",
              "  font-weight: 700;\n",
              "  float: right;\n",
              "  margin-top: -5px;\n",
              "}\n",
              ".master-wrapper .right-pane {\n",
              "  border: 1px inset silver;\n",
              "  width: 40%;\n",
              "  min-height: 300px;\n",
              "  flex: 3\n",
              "  min-width: 500px;\n",
              "}\n",
              ".master-wrapper * {\n",
              "  box-sizing: border-box;\n",
              "}\n",
              "</style><script>\n",
              "function copyToClipboard(fld) {\n",
              "    if (document.queryCommandSupported && document.queryCommandSupported('copy')) {\n",
              "        var textarea = document.createElement('textarea');\n",
              "        textarea.textContent = fld.innerHTML;\n",
              "        textarea.style.position = 'fixed';\n",
              "        document.body.appendChild(textarea);\n",
              "        textarea.select();\n",
              "\n",
              "        try {\n",
              "            return document.execCommand('copy'); // Security exception may be thrown by some browsers.\n",
              "        } catch (ex) {\n",
              "\n",
              "        } finally {\n",
              "            document.body.removeChild(textarea);\n",
              "        }\n",
              "    }\n",
              "}\n",
              "function expandPanel(el) {\n",
              "  const panelName = \"#\" + el.getAttribute('paneName');\n",
              "  console.log(el.title);\n",
              "\n",
              "  document.querySelector(panelName + \"-title\").innerHTML = el.title\n",
              "  iframe = document.querySelector(panelName + \"-body\");\n",
              "\n",
              "  const tblcss = `<style> body { font-family: Arial, Helvetica, sans-serif;}\n",
              "    #csv { margin-bottom: 15px; }\n",
              "    #csv table { border-collapse: collapse;}\n",
              "    #csv table td { padding: 4px 8px; border: 1px solid silver;} </style>`;\n",
              "\n",
              "  function csvToHtmlTable(str) {\n",
              "    return '<div id=\"csv\"><table><tr><td>' +  str.replace(/[\\n\\r]+$/g, '').replace(/[\\n\\r]+/g, '</td></tr><tr><td>')\n",
              "      .replace(/,/g, '</td><td>') + '</td></tr></table></div>';\n",
              "  }\n",
              "\n",
              "  function reqListener () {\n",
              "    if (el.title.endsWith(\".csv\")) {\n",
              "      iframe.setAttribute(\"srcdoc\", tblcss + csvToHtmlTable(this.responseText));\n",
              "    } else {\n",
              "      iframe.setAttribute(\"srcdoc\", this.responseText);\n",
              "    }\n",
              "    console.log(this.responseText);\n",
              "  }\n",
              "\n",
              "  const oReq = new XMLHttpRequest();\n",
              "  oReq.addEventListener(\"load\", reqListener);\n",
              "  oReq.open(\"GET\", el.title);\n",
              "  oReq.send();\n",
              "\n",
              "\n",
              "  //iframe.src = el.title;\n",
              "  const resultPane = document.querySelector(panelName + \"-pane\");\n",
              "  if (resultPane.classList.contains(\"hidden\")) {\n",
              "    resultPane.classList.remove(\"hidden\");\n",
              "  }\n",
              "}\n",
              "function closePanel(el) {\n",
              "  const panelName = \"#\" + el.getAttribute('paneName')\n",
              "  const resultPane = document.querySelector(panelName + \"-pane\");\n",
              "  if (!resultPane.classList.contains(\"hidden\")) {\n",
              "    resultPane.classList.add(\"hidden\");\n",
              "  }\n",
              "}\n",
              "\n",
              "</script>\n",
              "<div class=\"master-wrapper\">\n",
              "  <div class=\"block master-tbl\"><div>\n",
              "<style scoped>\n",
              "    .dataframe tbody tr th:only-of-type {\n",
              "        vertical-align: middle;\n",
              "    }\n",
              "\n",
              "    .dataframe tbody tr th {\n",
              "        vertical-align: top;\n",
              "    }\n",
              "\n",
              "    .dataframe thead th {\n",
              "        text-align: right;\n",
              "    }\n",
              "</style>\n",
              "<table border=\"1\" class=\"dataframe\">\n",
              "  <thead>\n",
              "    <tr style=\"text-align: right;\">\n",
              "      <th>project</th>\n",
              "      <th>uid</th>\n",
              "      <th>iter</th>\n",
              "      <th>start</th>\n",
              "      <th>state</th>\n",
              "      <th>name</th>\n",
              "      <th>labels</th>\n",
              "      <th>inputs</th>\n",
              "      <th>parameters</th>\n",
              "      <th>results</th>\n",
              "      <th>artifacts</th>\n",
              "    </tr>\n",
              "  </thead>\n",
              "  <tbody>\n",
              "    <tr>\n",
              "      <td>suicide-pred-root</td>\n",
              "      <td><div title=\"1d9744cc85b546e5bc01940d76f06752\">...f06752</div></td>\n",
              "      <td>0</td>\n",
              "      <td>Jul 04 05:24:57</td>\n",
              "      <td>completed</td>\n",
              "      <td>transform_dataset</td>\n",
              "      <td><div class=\"dictlist\">kind=</div><div class=\"dictlist\">owner=root</div><div class=\"dictlist\">host=ed438d8ab165</div></td>\n",
              "      <td><div title=\"store://artifacts/suicide-pred-root/suicide-fetch_data_suicide_dataset:f12b1ff1fedd47a688ccc8d829aad4c0\">data</div></td>\n",
              "      <td></td>\n",
              "      <td></td>\n",
              "      <td><div title=\"/content/drive/MyDrive/Hackathon/Data/data/suicide_dataset_transformed.csv\">suicide_dataset_transformed</div></td>\n",
              "    </tr>\n",
              "  </tbody>\n",
              "</table>\n",
              "</div></div>\n",
              "  <div id=\"resulta564be2e-pane\" class=\"right-pane block hidden\">\n",
              "    <div class=\"pane-header\">\n",
              "      <span id=\"resulta564be2e-title\" class=\"pane-header-title\">Title</span>\n",
              "      <span onclick=\"closePanel(this)\" paneName=\"resulta564be2e\" class=\"close clickable\">&times;</span>\n",
              "    </div>\n",
              "    <iframe class=\"fileview\" id=\"resulta564be2e-body\"></iframe>\n",
              "  </div>\n",
              "</div>\n"
            ],
            "text/plain": [
              "<IPython.core.display.HTML object>"
            ]
          },
          "metadata": {
            "tags": []
          }
        },
        {
          "output_type": "stream",
          "text": [
            "to track results use .show() or .logs() or in CLI: \n",
            "!mlrun get run 1d9744cc85b546e5bc01940d76f06752 --project suicide-pred-root , !mlrun logs 1d9744cc85b546e5bc01940d76f06752 --project suicide-pred-root\n",
            "> 2021-07-04 05:24:58,924 [info] run executed, status=completed\n"
          ],
          "name": "stdout"
        }
      ]
    },
    {
      "cell_type": "code",
      "metadata": {
        "colab": {
          "base_uri": "https://localhost:8080/"
        },
        "id": "FT_RFpWHqX46",
        "outputId": "e4f4d276-f7c6-4780-fe91-0cbf243f4d7f"
      },
      "source": [
        "transform_dataset_run.outputs"
      ],
      "execution_count": null,
      "outputs": [
        {
          "output_type": "execute_result",
          "data": {
            "text/plain": [
              "{'suicide_dataset_transformed': 'store://artifacts/suicide-pred-root/transform_dataset_suicide_dataset_transformed:1d9744cc85b546e5bc01940d76f06752'}"
            ]
          },
          "metadata": {
            "tags": []
          },
          "execution_count": 64
        }
      ]
    },
    {
      "cell_type": "markdown",
      "metadata": {
        "id": "ramqO21b4sBZ"
      },
      "source": [
        "<h3> Train"
      ]
    },
    {
      "cell_type": "code",
      "metadata": {
        "colab": {
          "base_uri": "https://localhost:8080/",
          "height": 542
        },
        "id": "n9hWE7duqhJc",
        "outputId": "cd5c6d73-da3b-4c21-997e-817cc70ab2ca"
      },
      "source": [
        "train_model_run = suicide_func.run(name='train_model',\n",
        "                                handler='train_model',\n",
        "                                inputs={'input_ds': transform_dataset_run.outputs['suicide_dataset_transformed']},\n",
        "                                local=True)"
      ],
      "execution_count": null,
      "outputs": [
        {
          "output_type": "stream",
          "text": [
            "> 2021-07-04 05:25:03,663 [info] starting run train_model uid=244e390cdc784189b698a6e39a9edc00 DB=/content/drive/MyDrive/Hackathon\n",
            "[nltk_data] Downloading package stopwords to /root/nltk_data...\n",
            "[nltk_data]   Package stopwords is already up-to-date!\n",
            "--------------------------------\n",
            "\n",
            "                           _id  ...                                              tweet\n",
            "0     60e08fddeee7fb8ea50f3d85  ...  my life is meaningless i just want to end my l...\n",
            "1     60e08fdfeee7fb8ea50f3d86  ...  muttering i wanna die to myself daily for a fe...\n",
            "2     60e08fdfeee7fb8ea50f3d87  ...  work slave i really feel like my only purpose ...\n",
            "3     60e08fe0eee7fb8ea50f3d88  ...  i did something on the 2 of october i overdose...\n",
            "4     60e08fe0eee7fb8ea50f3d89  ...  i feel like no one cares i just want to die ma...\n",
            "...                        ...  ...                                                ...\n",
            "9114  60e09986eee7fb8ea50f611f  ...  have you ever laid on your bed at night and cr...\n",
            "9115  60e09987eee7fb8ea50f6120  ...  the fault the blame the pain s still there i m...\n",
            "9116  60e09987eee7fb8ea50f6121  ...  stop asking me to trust you when i m still cou...\n",
            "9117  60e09987eee7fb8ea50f6122  ...  i never know how to handle sadness crying make...\n",
            "9118  60e09988eee7fb8ea50f6123  ...  when cancer takes a life we blame cancer depre...\n",
            "\n",
            "[9119 rows x 3 columns]\n",
            "> 2021-07-04 05:25:04,951 [info] Begin training\n",
            "Accuracy: 0.912\n",
            "> 2021-07-04 05:25:21,099 [info] End training\n"
          ],
          "name": "stdout"
        },
        {
          "output_type": "display_data",
          "data": {
            "text/html": [
              "<style>\n",
              ".dictlist {\n",
              "  background-color: #4EC64B;\n",
              "  text-align: center;\n",
              "  margin: 4px;\n",
              "  border-radius: 3px; padding: 0px 3px 1px 3px; display: inline-block;}\n",
              ".artifact {\n",
              "  cursor: pointer;\n",
              "  background-color: #4EC64B;\n",
              "  text-align: left;\n",
              "  margin: 4px; border-radius: 3px; padding: 0px 3px 1px 3px; display: inline-block;\n",
              "}\n",
              "div.block.hidden {\n",
              "  display: none;\n",
              "}\n",
              ".clickable {\n",
              "  cursor: pointer;\n",
              "}\n",
              ".ellipsis {\n",
              "  display: inline-block;\n",
              "  max-width: 60px;\n",
              "  white-space: nowrap;\n",
              "  overflow: hidden;\n",
              "  text-overflow: ellipsis;\n",
              "}\n",
              ".master-wrapper {\n",
              "  display: flex;\n",
              "  flex-flow: row nowrap;\n",
              "  justify-content: flex-start;\n",
              "  align-items: stretch;\n",
              "}\n",
              ".master-tbl {\n",
              "  flex: 3\n",
              "}\n",
              ".master-wrapper > div {\n",
              "  margin: 4px;\n",
              "  padding: 10px;\n",
              "}\n",
              "iframe.fileview {\n",
              "  border: 0 none;\n",
              "  height: 100%;\n",
              "  width: 100%;\n",
              "  white-space: pre-wrap;\n",
              "}\n",
              ".pane-header-title {\n",
              "  width: 80%;\n",
              "  font-weight: 500;\n",
              "}\n",
              ".pane-header {\n",
              "  line-height: 1;\n",
              "  background-color: #4EC64B;\n",
              "  padding: 3px;\n",
              "}\n",
              ".pane-header .close {\n",
              "  font-size: 20px;\n",
              "  font-weight: 700;\n",
              "  float: right;\n",
              "  margin-top: -5px;\n",
              "}\n",
              ".master-wrapper .right-pane {\n",
              "  border: 1px inset silver;\n",
              "  width: 40%;\n",
              "  min-height: 300px;\n",
              "  flex: 3\n",
              "  min-width: 500px;\n",
              "}\n",
              ".master-wrapper * {\n",
              "  box-sizing: border-box;\n",
              "}\n",
              "</style><script>\n",
              "function copyToClipboard(fld) {\n",
              "    if (document.queryCommandSupported && document.queryCommandSupported('copy')) {\n",
              "        var textarea = document.createElement('textarea');\n",
              "        textarea.textContent = fld.innerHTML;\n",
              "        textarea.style.position = 'fixed';\n",
              "        document.body.appendChild(textarea);\n",
              "        textarea.select();\n",
              "\n",
              "        try {\n",
              "            return document.execCommand('copy'); // Security exception may be thrown by some browsers.\n",
              "        } catch (ex) {\n",
              "\n",
              "        } finally {\n",
              "            document.body.removeChild(textarea);\n",
              "        }\n",
              "    }\n",
              "}\n",
              "function expandPanel(el) {\n",
              "  const panelName = \"#\" + el.getAttribute('paneName');\n",
              "  console.log(el.title);\n",
              "\n",
              "  document.querySelector(panelName + \"-title\").innerHTML = el.title\n",
              "  iframe = document.querySelector(panelName + \"-body\");\n",
              "\n",
              "  const tblcss = `<style> body { font-family: Arial, Helvetica, sans-serif;}\n",
              "    #csv { margin-bottom: 15px; }\n",
              "    #csv table { border-collapse: collapse;}\n",
              "    #csv table td { padding: 4px 8px; border: 1px solid silver;} </style>`;\n",
              "\n",
              "  function csvToHtmlTable(str) {\n",
              "    return '<div id=\"csv\"><table><tr><td>' +  str.replace(/[\\n\\r]+$/g, '').replace(/[\\n\\r]+/g, '</td></tr><tr><td>')\n",
              "      .replace(/,/g, '</td><td>') + '</td></tr></table></div>';\n",
              "  }\n",
              "\n",
              "  function reqListener () {\n",
              "    if (el.title.endsWith(\".csv\")) {\n",
              "      iframe.setAttribute(\"srcdoc\", tblcss + csvToHtmlTable(this.responseText));\n",
              "    } else {\n",
              "      iframe.setAttribute(\"srcdoc\", this.responseText);\n",
              "    }\n",
              "    console.log(this.responseText);\n",
              "  }\n",
              "\n",
              "  const oReq = new XMLHttpRequest();\n",
              "  oReq.addEventListener(\"load\", reqListener);\n",
              "  oReq.open(\"GET\", el.title);\n",
              "  oReq.send();\n",
              "\n",
              "\n",
              "  //iframe.src = el.title;\n",
              "  const resultPane = document.querySelector(panelName + \"-pane\");\n",
              "  if (resultPane.classList.contains(\"hidden\")) {\n",
              "    resultPane.classList.remove(\"hidden\");\n",
              "  }\n",
              "}\n",
              "function closePanel(el) {\n",
              "  const panelName = \"#\" + el.getAttribute('paneName')\n",
              "  const resultPane = document.querySelector(panelName + \"-pane\");\n",
              "  if (!resultPane.classList.contains(\"hidden\")) {\n",
              "    resultPane.classList.add(\"hidden\");\n",
              "  }\n",
              "}\n",
              "\n",
              "</script>\n",
              "<div class=\"master-wrapper\">\n",
              "  <div class=\"block master-tbl\"><div>\n",
              "<style scoped>\n",
              "    .dataframe tbody tr th:only-of-type {\n",
              "        vertical-align: middle;\n",
              "    }\n",
              "\n",
              "    .dataframe tbody tr th {\n",
              "        vertical-align: top;\n",
              "    }\n",
              "\n",
              "    .dataframe thead th {\n",
              "        text-align: right;\n",
              "    }\n",
              "</style>\n",
              "<table border=\"1\" class=\"dataframe\">\n",
              "  <thead>\n",
              "    <tr style=\"text-align: right;\">\n",
              "      <th>project</th>\n",
              "      <th>uid</th>\n",
              "      <th>iter</th>\n",
              "      <th>start</th>\n",
              "      <th>state</th>\n",
              "      <th>name</th>\n",
              "      <th>labels</th>\n",
              "      <th>inputs</th>\n",
              "      <th>parameters</th>\n",
              "      <th>results</th>\n",
              "      <th>artifacts</th>\n",
              "    </tr>\n",
              "  </thead>\n",
              "  <tbody>\n",
              "    <tr>\n",
              "      <td>suicide-pred-root</td>\n",
              "      <td><div title=\"244e390cdc784189b698a6e39a9edc00\">...9edc00</div></td>\n",
              "      <td>0</td>\n",
              "      <td>Jul 04 05:25:04</td>\n",
              "      <td>completed</td>\n",
              "      <td>train_model</td>\n",
              "      <td><div class=\"dictlist\">kind=</div><div class=\"dictlist\">owner=root</div><div class=\"dictlist\">host=ed438d8ab165</div></td>\n",
              "      <td><div title=\"store://artifacts/suicide-pred-root/transform_dataset_suicide_dataset_transformed:1d9744cc85b546e5bc01940d76f06752\">input_ds</div></td>\n",
              "      <td></td>\n",
              "      <td></td>\n",
              "      <td><div title=\"/content/drive/MyDrive/Hackathon/Data/models\">Suicide_Model</div></td>\n",
              "    </tr>\n",
              "  </tbody>\n",
              "</table>\n",
              "</div></div>\n",
              "  <div id=\"result7ec6cb88-pane\" class=\"right-pane block hidden\">\n",
              "    <div class=\"pane-header\">\n",
              "      <span id=\"result7ec6cb88-title\" class=\"pane-header-title\">Title</span>\n",
              "      <span onclick=\"closePanel(this)\" paneName=\"result7ec6cb88\" class=\"close clickable\">&times;</span>\n",
              "    </div>\n",
              "    <iframe class=\"fileview\" id=\"result7ec6cb88-body\"></iframe>\n",
              "  </div>\n",
              "</div>\n"
            ],
            "text/plain": [
              "<IPython.core.display.HTML object>"
            ]
          },
          "metadata": {
            "tags": []
          }
        },
        {
          "output_type": "stream",
          "text": [
            "to track results use .show() or .logs() or in CLI: \n",
            "!mlrun get run 244e390cdc784189b698a6e39a9edc00 --project suicide-pred-root , !mlrun logs 244e390cdc784189b698a6e39a9edc00 --project suicide-pred-root\n",
            "> 2021-07-04 05:25:21,223 [info] run executed, status=completed\n"
          ],
          "name": "stdout"
        }
      ]
    },
    {
      "cell_type": "code",
      "metadata": {
        "colab": {
          "base_uri": "https://localhost:8080/"
        },
        "id": "ZznxU_9Xsv-o",
        "outputId": "90ccd7de-9ab5-4179-d18d-7d9cbcf5f692"
      },
      "source": [
        "train_model_run.outputs"
      ],
      "execution_count": null,
      "outputs": [
        {
          "output_type": "execute_result",
          "data": {
            "text/plain": [
              "{'Suicide_Model': 'store://artifacts/suicide-pred-root/train_model_Suicide_Model:244e390cdc784189b698a6e39a9edc00'}"
            ]
          },
          "metadata": {
            "tags": []
          },
          "execution_count": 66
        }
      ]
    },
    {
      "cell_type": "markdown",
      "metadata": {
        "id": "OLsacfGM4k97"
      },
      "source": [
        "<h3> Serving "
      ]
    },
    {
      "cell_type": "code",
      "metadata": {
        "colab": {
          "base_uri": "https://localhost:8080/"
        },
        "id": "Khumu8udq5jV",
        "outputId": "44694fc8-0cae-439d-e3cd-a3a3cf3f4d26"
      },
      "source": [
        "serving = mlrun.code_to_function('seving', filename='/content/drive/MyDrive/Colab Notebooks/code_MLRun.ipynb', kind='serving')\n",
        "\n",
        "serving.spec.default_class = 'SuicideModel'\n",
        "serving.add_model('suicide-serving', train_model_run.outputs['Suicide_Model'])\n",
        "# serving_address = serving.deploy()"
      ],
      "execution_count": null,
      "outputs": [
        {
          "output_type": "execute_result",
          "data": {
            "text/plain": [
              "<mlrun.serving.states.TaskState at 0x7ff9a2261710>"
            ]
          },
          "metadata": {
            "tags": []
          },
          "execution_count": 67
        }
      ]
    },
    {
      "cell_type": "code",
      "metadata": {
        "colab": {
          "base_uri": "https://localhost:8080/"
        },
        "id": "UvXShdk3wQ4B",
        "outputId": "c710b20d-4d62-45ce-f112-fc29b816305a"
      },
      "source": [
        "my_data = '''{\"inputs\":[\"I'll kill myself am tired of living depressed and alone\"]}'''\n",
        "\n",
        "server = serving.to_mock_server()\n",
        "server.test(\"/v2/models/suicide-serving/infer\", body=my_data)"
      ],
      "execution_count": null,
      "outputs": [
        {
          "output_type": "stream",
          "text": [
            "> 2021-07-04 05:25:57,142 [info] model suicide-serving was loaded\n",
            "> 2021-07-04 05:25:57,144 [info] Loaded ['suicide-serving']\n",
            "hi\n"
          ],
          "name": "stdout"
        },
        {
          "output_type": "execute_result",
          "data": {
            "text/plain": [
              "{'id': '3df47f5ae47746108122ea73a3b1a3fd',\n",
              " 'model_name': 'suicide-serving',\n",
              " 'outputs': [1]}"
            ]
          },
          "metadata": {
            "tags": []
          },
          "execution_count": 68
        }
      ]
    },
    {
      "cell_type": "code",
      "metadata": {
        "colab": {
          "base_uri": "https://localhost:8080/"
        },
        "id": "JqKGR-vP4R4R",
        "outputId": "71df2fc8-09ad-4106-abfe-d365e9c2d47d"
      },
      "source": [
        "my_data = '''{\"inputs\":[\"It's such a hot day, I'd like to have ice cream and visit the park\"]}'''\n",
        "\n",
        "server = serving.to_mock_server()\n",
        "server.test(\"/v2/models/suicide-serving/infer\", body=my_data)"
      ],
      "execution_count": null,
      "outputs": [
        {
          "output_type": "stream",
          "text": [
            "> 2021-07-04 05:25:59,923 [info] model suicide-serving was loaded\n",
            "> 2021-07-04 05:25:59,925 [info] Loaded ['suicide-serving']\n",
            "hi\n"
          ],
          "name": "stdout"
        },
        {
          "output_type": "execute_result",
          "data": {
            "text/plain": [
              "{'id': 'e2bde7c755d84f24947f0787ac4ec59e',\n",
              " 'model_name': 'suicide-serving',\n",
              " 'outputs': [0]}"
            ]
          },
          "metadata": {
            "tags": []
          },
          "execution_count": 69
        }
      ]
    },
    {
      "cell_type": "code",
      "metadata": {
        "id": "Q0hZN97R-wPh"
      },
      "source": [
        ""
      ],
      "execution_count": null,
      "outputs": []
    }
  ]
}